{
 "cells": [
  {
   "cell_type": "code",
   "execution_count": 1,
   "id": "69f44993",
   "metadata": {},
   "outputs": [],
   "source": [
    "# standard imports and setup\n",
    "import numpy as np \n",
    "import pandas as pd \n",
    "import seaborn as sns \n",
    "import matplotlib.pyplot as plt \n",
    "\n",
    "\n",
    "from sklearn.tree import DecisionTreeClassifier, export_graphviz\n",
    "from sklearn.metrics import classification_report, confusion_matrix, recall_score,precision_score"
   ]
  },
  {
   "cell_type": "code",
   "execution_count": 2,
   "id": "36682b9b",
   "metadata": {},
   "outputs": [],
   "source": [
    "# remove warnings\n",
    "import warnings\n",
    "warnings.filterwarnings('ignore')"
   ]
  },
  {
   "cell_type": "code",
   "execution_count": 3,
   "id": "2b465efc",
   "metadata": {},
   "outputs": [],
   "source": [
    "df = pd.read_csv('mushrooms.csv',na_values='?')"
   ]
  },
  {
   "cell_type": "code",
   "execution_count": 4,
   "id": "1f2f78fc",
   "metadata": {},
   "outputs": [
    {
     "data": {
      "text/html": [
       "<div>\n",
       "<style scoped>\n",
       "    .dataframe tbody tr th:only-of-type {\n",
       "        vertical-align: middle;\n",
       "    }\n",
       "\n",
       "    .dataframe tbody tr th {\n",
       "        vertical-align: top;\n",
       "    }\n",
       "\n",
       "    .dataframe thead th {\n",
       "        text-align: right;\n",
       "    }\n",
       "</style>\n",
       "<table border=\"1\" class=\"dataframe\">\n",
       "  <thead>\n",
       "    <tr style=\"text-align: right;\">\n",
       "      <th></th>\n",
       "      <th>class</th>\n",
       "      <th>cap-shape</th>\n",
       "      <th>cap-surface</th>\n",
       "      <th>cap-color</th>\n",
       "      <th>bruises</th>\n",
       "      <th>odor</th>\n",
       "      <th>gill-attachment</th>\n",
       "      <th>gill-spacing</th>\n",
       "      <th>gill-size</th>\n",
       "      <th>gill-color</th>\n",
       "      <th>...</th>\n",
       "      <th>stalk-surface-below-ring</th>\n",
       "      <th>stalk-color-above-ring</th>\n",
       "      <th>stalk-color-below-ring</th>\n",
       "      <th>veil-type</th>\n",
       "      <th>veil-color</th>\n",
       "      <th>ring-number</th>\n",
       "      <th>ring-type</th>\n",
       "      <th>spore-print-color</th>\n",
       "      <th>population</th>\n",
       "      <th>habitat</th>\n",
       "    </tr>\n",
       "  </thead>\n",
       "  <tbody>\n",
       "    <tr>\n",
       "      <th>0</th>\n",
       "      <td>p</td>\n",
       "      <td>x</td>\n",
       "      <td>s</td>\n",
       "      <td>n</td>\n",
       "      <td>t</td>\n",
       "      <td>p</td>\n",
       "      <td>f</td>\n",
       "      <td>c</td>\n",
       "      <td>n</td>\n",
       "      <td>k</td>\n",
       "      <td>...</td>\n",
       "      <td>s</td>\n",
       "      <td>w</td>\n",
       "      <td>w</td>\n",
       "      <td>p</td>\n",
       "      <td>w</td>\n",
       "      <td>o</td>\n",
       "      <td>p</td>\n",
       "      <td>k</td>\n",
       "      <td>s</td>\n",
       "      <td>u</td>\n",
       "    </tr>\n",
       "    <tr>\n",
       "      <th>1</th>\n",
       "      <td>e</td>\n",
       "      <td>x</td>\n",
       "      <td>s</td>\n",
       "      <td>y</td>\n",
       "      <td>t</td>\n",
       "      <td>a</td>\n",
       "      <td>f</td>\n",
       "      <td>c</td>\n",
       "      <td>b</td>\n",
       "      <td>k</td>\n",
       "      <td>...</td>\n",
       "      <td>s</td>\n",
       "      <td>w</td>\n",
       "      <td>w</td>\n",
       "      <td>p</td>\n",
       "      <td>w</td>\n",
       "      <td>o</td>\n",
       "      <td>p</td>\n",
       "      <td>n</td>\n",
       "      <td>n</td>\n",
       "      <td>g</td>\n",
       "    </tr>\n",
       "    <tr>\n",
       "      <th>2</th>\n",
       "      <td>e</td>\n",
       "      <td>b</td>\n",
       "      <td>s</td>\n",
       "      <td>w</td>\n",
       "      <td>t</td>\n",
       "      <td>l</td>\n",
       "      <td>f</td>\n",
       "      <td>c</td>\n",
       "      <td>b</td>\n",
       "      <td>n</td>\n",
       "      <td>...</td>\n",
       "      <td>s</td>\n",
       "      <td>w</td>\n",
       "      <td>w</td>\n",
       "      <td>p</td>\n",
       "      <td>w</td>\n",
       "      <td>o</td>\n",
       "      <td>p</td>\n",
       "      <td>n</td>\n",
       "      <td>n</td>\n",
       "      <td>m</td>\n",
       "    </tr>\n",
       "    <tr>\n",
       "      <th>3</th>\n",
       "      <td>p</td>\n",
       "      <td>x</td>\n",
       "      <td>y</td>\n",
       "      <td>w</td>\n",
       "      <td>t</td>\n",
       "      <td>p</td>\n",
       "      <td>f</td>\n",
       "      <td>c</td>\n",
       "      <td>n</td>\n",
       "      <td>n</td>\n",
       "      <td>...</td>\n",
       "      <td>s</td>\n",
       "      <td>w</td>\n",
       "      <td>w</td>\n",
       "      <td>p</td>\n",
       "      <td>w</td>\n",
       "      <td>o</td>\n",
       "      <td>p</td>\n",
       "      <td>k</td>\n",
       "      <td>s</td>\n",
       "      <td>u</td>\n",
       "    </tr>\n",
       "    <tr>\n",
       "      <th>4</th>\n",
       "      <td>e</td>\n",
       "      <td>x</td>\n",
       "      <td>s</td>\n",
       "      <td>g</td>\n",
       "      <td>f</td>\n",
       "      <td>n</td>\n",
       "      <td>f</td>\n",
       "      <td>w</td>\n",
       "      <td>b</td>\n",
       "      <td>k</td>\n",
       "      <td>...</td>\n",
       "      <td>s</td>\n",
       "      <td>w</td>\n",
       "      <td>w</td>\n",
       "      <td>p</td>\n",
       "      <td>w</td>\n",
       "      <td>o</td>\n",
       "      <td>e</td>\n",
       "      <td>n</td>\n",
       "      <td>a</td>\n",
       "      <td>g</td>\n",
       "    </tr>\n",
       "  </tbody>\n",
       "</table>\n",
       "<p>5 rows × 23 columns</p>\n",
       "</div>"
      ],
      "text/plain": [
       "  class cap-shape cap-surface cap-color bruises odor gill-attachment  \\\n",
       "0     p         x           s         n       t    p               f   \n",
       "1     e         x           s         y       t    a               f   \n",
       "2     e         b           s         w       t    l               f   \n",
       "3     p         x           y         w       t    p               f   \n",
       "4     e         x           s         g       f    n               f   \n",
       "\n",
       "  gill-spacing gill-size gill-color  ... stalk-surface-below-ring  \\\n",
       "0            c         n          k  ...                        s   \n",
       "1            c         b          k  ...                        s   \n",
       "2            c         b          n  ...                        s   \n",
       "3            c         n          n  ...                        s   \n",
       "4            w         b          k  ...                        s   \n",
       "\n",
       "  stalk-color-above-ring stalk-color-below-ring veil-type veil-color  \\\n",
       "0                      w                      w         p          w   \n",
       "1                      w                      w         p          w   \n",
       "2                      w                      w         p          w   \n",
       "3                      w                      w         p          w   \n",
       "4                      w                      w         p          w   \n",
       "\n",
       "  ring-number ring-type spore-print-color population habitat  \n",
       "0           o         p                 k          s       u  \n",
       "1           o         p                 n          n       g  \n",
       "2           o         p                 n          n       m  \n",
       "3           o         p                 k          s       u  \n",
       "4           o         e                 n          a       g  \n",
       "\n",
       "[5 rows x 23 columns]"
      ]
     },
     "execution_count": 4,
     "metadata": {},
     "output_type": "execute_result"
    }
   ],
   "source": [
    "df.head()"
   ]
  },
  {
   "cell_type": "code",
   "execution_count": 5,
   "id": "8ac49c26",
   "metadata": {},
   "outputs": [
    {
     "data": {
      "text/plain": [
       "(8124, 23)"
      ]
     },
     "execution_count": 5,
     "metadata": {},
     "output_type": "execute_result"
    }
   ],
   "source": [
    "df.shape"
   ]
  },
  {
   "cell_type": "code",
   "execution_count": 6,
   "id": "4822a4c4",
   "metadata": {},
   "outputs": [
    {
     "name": "stdout",
     "output_type": "stream",
     "text": [
      "<class 'pandas.core.frame.DataFrame'>\n",
      "RangeIndex: 8124 entries, 0 to 8123\n",
      "Data columns (total 23 columns):\n",
      " #   Column                    Non-Null Count  Dtype \n",
      "---  ------                    --------------  ----- \n",
      " 0   class                     8124 non-null   object\n",
      " 1   cap-shape                 8124 non-null   object\n",
      " 2   cap-surface               8124 non-null   object\n",
      " 3   cap-color                 8124 non-null   object\n",
      " 4   bruises                   8124 non-null   object\n",
      " 5   odor                      8124 non-null   object\n",
      " 6   gill-attachment           8124 non-null   object\n",
      " 7   gill-spacing              8124 non-null   object\n",
      " 8   gill-size                 8124 non-null   object\n",
      " 9   gill-color                8124 non-null   object\n",
      " 10  stalk-shape               8124 non-null   object\n",
      " 11  stalk-root                5644 non-null   object\n",
      " 12  stalk-surface-above-ring  8124 non-null   object\n",
      " 13  stalk-surface-below-ring  8124 non-null   object\n",
      " 14  stalk-color-above-ring    8124 non-null   object\n",
      " 15  stalk-color-below-ring    8124 non-null   object\n",
      " 16  veil-type                 8124 non-null   object\n",
      " 17  veil-color                8124 non-null   object\n",
      " 18  ring-number               8124 non-null   object\n",
      " 19  ring-type                 8124 non-null   object\n",
      " 20  spore-print-color         8124 non-null   object\n",
      " 21  population                8124 non-null   object\n",
      " 22  habitat                   8124 non-null   object\n",
      "dtypes: object(23)\n",
      "memory usage: 1.4+ MB\n"
     ]
    }
   ],
   "source": [
    "df.info()"
   ]
  },
  {
   "cell_type": "code",
   "execution_count": 7,
   "id": "c3cef541",
   "metadata": {},
   "outputs": [
    {
     "data": {
      "text/html": [
       "<div>\n",
       "<style scoped>\n",
       "    .dataframe tbody tr th:only-of-type {\n",
       "        vertical-align: middle;\n",
       "    }\n",
       "\n",
       "    .dataframe tbody tr th {\n",
       "        vertical-align: top;\n",
       "    }\n",
       "\n",
       "    .dataframe thead th {\n",
       "        text-align: right;\n",
       "    }\n",
       "</style>\n",
       "<table border=\"1\" class=\"dataframe\">\n",
       "  <thead>\n",
       "    <tr style=\"text-align: right;\">\n",
       "      <th></th>\n",
       "      <th>class</th>\n",
       "      <th>cap-shape</th>\n",
       "      <th>cap-surface</th>\n",
       "      <th>cap-color</th>\n",
       "      <th>bruises</th>\n",
       "      <th>odor</th>\n",
       "      <th>gill-attachment</th>\n",
       "      <th>gill-spacing</th>\n",
       "      <th>gill-size</th>\n",
       "      <th>gill-color</th>\n",
       "      <th>...</th>\n",
       "      <th>stalk-surface-below-ring</th>\n",
       "      <th>stalk-color-above-ring</th>\n",
       "      <th>stalk-color-below-ring</th>\n",
       "      <th>veil-type</th>\n",
       "      <th>veil-color</th>\n",
       "      <th>ring-number</th>\n",
       "      <th>ring-type</th>\n",
       "      <th>spore-print-color</th>\n",
       "      <th>population</th>\n",
       "      <th>habitat</th>\n",
       "    </tr>\n",
       "  </thead>\n",
       "  <tbody>\n",
       "  </tbody>\n",
       "</table>\n",
       "<p>0 rows × 23 columns</p>\n",
       "</div>"
      ],
      "text/plain": [
       "Empty DataFrame\n",
       "Columns: [class, cap-shape, cap-surface, cap-color, bruises, odor, gill-attachment, gill-spacing, gill-size, gill-color, stalk-shape, stalk-root, stalk-surface-above-ring, stalk-surface-below-ring, stalk-color-above-ring, stalk-color-below-ring, veil-type, veil-color, ring-number, ring-type, spore-print-color, population, habitat]\n",
       "Index: []\n",
       "\n",
       "[0 rows x 23 columns]"
      ]
     },
     "execution_count": 7,
     "metadata": {},
     "output_type": "execute_result"
    }
   ],
   "source": [
    "#Checking for duplicate rows\n",
    "df[df.duplicated(subset=None, keep= 'first')==True]"
   ]
  },
  {
   "cell_type": "code",
   "execution_count": 8,
   "id": "e58b7de3",
   "metadata": {},
   "outputs": [
    {
     "data": {
      "text/html": [
       "<div>\n",
       "<style scoped>\n",
       "    .dataframe tbody tr th:only-of-type {\n",
       "        vertical-align: middle;\n",
       "    }\n",
       "\n",
       "    .dataframe tbody tr th {\n",
       "        vertical-align: top;\n",
       "    }\n",
       "\n",
       "    .dataframe thead th {\n",
       "        text-align: right;\n",
       "    }\n",
       "</style>\n",
       "<table border=\"1\" class=\"dataframe\">\n",
       "  <thead>\n",
       "    <tr style=\"text-align: right;\">\n",
       "      <th></th>\n",
       "      <th>Datatype</th>\n",
       "      <th>No of NAs</th>\n",
       "      <th>No of Levels</th>\n",
       "      <th>Levels</th>\n",
       "    </tr>\n",
       "  </thead>\n",
       "  <tbody>\n",
       "    <tr>\n",
       "      <th>class</th>\n",
       "      <td>object</td>\n",
       "      <td>0</td>\n",
       "      <td>2</td>\n",
       "      <td>['p' 'e']</td>\n",
       "    </tr>\n",
       "    <tr>\n",
       "      <th>cap-shape</th>\n",
       "      <td>object</td>\n",
       "      <td>0</td>\n",
       "      <td>6</td>\n",
       "      <td>['x' 'b' 's' 'f' 'k' 'c']</td>\n",
       "    </tr>\n",
       "    <tr>\n",
       "      <th>cap-surface</th>\n",
       "      <td>object</td>\n",
       "      <td>0</td>\n",
       "      <td>4</td>\n",
       "      <td>['s' 'y' 'f' 'g']</td>\n",
       "    </tr>\n",
       "    <tr>\n",
       "      <th>cap-color</th>\n",
       "      <td>object</td>\n",
       "      <td>0</td>\n",
       "      <td>10</td>\n",
       "      <td>['n' 'y' 'w' 'g' 'e' 'p' 'b' 'u' 'c' 'r']</td>\n",
       "    </tr>\n",
       "    <tr>\n",
       "      <th>bruises</th>\n",
       "      <td>object</td>\n",
       "      <td>0</td>\n",
       "      <td>2</td>\n",
       "      <td>['t' 'f']</td>\n",
       "    </tr>\n",
       "    <tr>\n",
       "      <th>odor</th>\n",
       "      <td>object</td>\n",
       "      <td>0</td>\n",
       "      <td>9</td>\n",
       "      <td>['p' 'a' 'l' 'n' 'f' 'c' 'y' 's' 'm']</td>\n",
       "    </tr>\n",
       "    <tr>\n",
       "      <th>gill-attachment</th>\n",
       "      <td>object</td>\n",
       "      <td>0</td>\n",
       "      <td>2</td>\n",
       "      <td>['f' 'a']</td>\n",
       "    </tr>\n",
       "    <tr>\n",
       "      <th>gill-spacing</th>\n",
       "      <td>object</td>\n",
       "      <td>0</td>\n",
       "      <td>2</td>\n",
       "      <td>['c' 'w']</td>\n",
       "    </tr>\n",
       "    <tr>\n",
       "      <th>gill-size</th>\n",
       "      <td>object</td>\n",
       "      <td>0</td>\n",
       "      <td>2</td>\n",
       "      <td>['n' 'b']</td>\n",
       "    </tr>\n",
       "    <tr>\n",
       "      <th>gill-color</th>\n",
       "      <td>object</td>\n",
       "      <td>0</td>\n",
       "      <td>12</td>\n",
       "      <td>['k' 'n' 'g' 'p' 'w' 'h' 'u' 'e' 'b' 'r' 'y' 'o']</td>\n",
       "    </tr>\n",
       "    <tr>\n",
       "      <th>stalk-shape</th>\n",
       "      <td>object</td>\n",
       "      <td>0</td>\n",
       "      <td>2</td>\n",
       "      <td>['e' 't']</td>\n",
       "    </tr>\n",
       "    <tr>\n",
       "      <th>stalk-root</th>\n",
       "      <td>object</td>\n",
       "      <td>2480</td>\n",
       "      <td>4</td>\n",
       "      <td>['e' 'c' 'b' 'r' nan]</td>\n",
       "    </tr>\n",
       "    <tr>\n",
       "      <th>stalk-surface-above-ring</th>\n",
       "      <td>object</td>\n",
       "      <td>0</td>\n",
       "      <td>4</td>\n",
       "      <td>['s' 'f' 'k' 'y']</td>\n",
       "    </tr>\n",
       "    <tr>\n",
       "      <th>stalk-surface-below-ring</th>\n",
       "      <td>object</td>\n",
       "      <td>0</td>\n",
       "      <td>4</td>\n",
       "      <td>['s' 'f' 'y' 'k']</td>\n",
       "    </tr>\n",
       "    <tr>\n",
       "      <th>stalk-color-above-ring</th>\n",
       "      <td>object</td>\n",
       "      <td>0</td>\n",
       "      <td>9</td>\n",
       "      <td>['w' 'g' 'p' 'n' 'b' 'e' 'o' 'c' 'y']</td>\n",
       "    </tr>\n",
       "    <tr>\n",
       "      <th>stalk-color-below-ring</th>\n",
       "      <td>object</td>\n",
       "      <td>0</td>\n",
       "      <td>9</td>\n",
       "      <td>['w' 'p' 'g' 'b' 'n' 'e' 'y' 'o' 'c']</td>\n",
       "    </tr>\n",
       "    <tr>\n",
       "      <th>veil-type</th>\n",
       "      <td>object</td>\n",
       "      <td>0</td>\n",
       "      <td>1</td>\n",
       "      <td>['p']</td>\n",
       "    </tr>\n",
       "    <tr>\n",
       "      <th>veil-color</th>\n",
       "      <td>object</td>\n",
       "      <td>0</td>\n",
       "      <td>4</td>\n",
       "      <td>['w' 'n' 'o' 'y']</td>\n",
       "    </tr>\n",
       "    <tr>\n",
       "      <th>ring-number</th>\n",
       "      <td>object</td>\n",
       "      <td>0</td>\n",
       "      <td>3</td>\n",
       "      <td>['o' 't' 'n']</td>\n",
       "    </tr>\n",
       "    <tr>\n",
       "      <th>ring-type</th>\n",
       "      <td>object</td>\n",
       "      <td>0</td>\n",
       "      <td>5</td>\n",
       "      <td>['p' 'e' 'l' 'f' 'n']</td>\n",
       "    </tr>\n",
       "    <tr>\n",
       "      <th>spore-print-color</th>\n",
       "      <td>object</td>\n",
       "      <td>0</td>\n",
       "      <td>9</td>\n",
       "      <td>['k' 'n' 'u' 'h' 'w' 'r' 'o' 'y' 'b']</td>\n",
       "    </tr>\n",
       "    <tr>\n",
       "      <th>population</th>\n",
       "      <td>object</td>\n",
       "      <td>0</td>\n",
       "      <td>6</td>\n",
       "      <td>['s' 'n' 'a' 'v' 'y' 'c']</td>\n",
       "    </tr>\n",
       "    <tr>\n",
       "      <th>habitat</th>\n",
       "      <td>object</td>\n",
       "      <td>0</td>\n",
       "      <td>7</td>\n",
       "      <td>['u' 'g' 'm' 'd' 'p' 'w' 'l']</td>\n",
       "    </tr>\n",
       "  </tbody>\n",
       "</table>\n",
       "</div>"
      ],
      "text/plain": [
       "                         Datatype  No of NAs  No of Levels  \\\n",
       "class                      object          0             2   \n",
       "cap-shape                  object          0             6   \n",
       "cap-surface                object          0             4   \n",
       "cap-color                  object          0            10   \n",
       "bruises                    object          0             2   \n",
       "odor                       object          0             9   \n",
       "gill-attachment            object          0             2   \n",
       "gill-spacing               object          0             2   \n",
       "gill-size                  object          0             2   \n",
       "gill-color                 object          0            12   \n",
       "stalk-shape                object          0             2   \n",
       "stalk-root                 object       2480             4   \n",
       "stalk-surface-above-ring   object          0             4   \n",
       "stalk-surface-below-ring   object          0             4   \n",
       "stalk-color-above-ring     object          0             9   \n",
       "stalk-color-below-ring     object          0             9   \n",
       "veil-type                  object          0             1   \n",
       "veil-color                 object          0             4   \n",
       "ring-number                object          0             3   \n",
       "ring-type                  object          0             5   \n",
       "spore-print-color          object          0             9   \n",
       "population                 object          0             6   \n",
       "habitat                    object          0             7   \n",
       "\n",
       "                                                                     Levels  \n",
       "class                                                             ['p' 'e']  \n",
       "cap-shape                                         ['x' 'b' 's' 'f' 'k' 'c']  \n",
       "cap-surface                                               ['s' 'y' 'f' 'g']  \n",
       "cap-color                         ['n' 'y' 'w' 'g' 'e' 'p' 'b' 'u' 'c' 'r']  \n",
       "bruises                                                           ['t' 'f']  \n",
       "odor                                  ['p' 'a' 'l' 'n' 'f' 'c' 'y' 's' 'm']  \n",
       "gill-attachment                                                   ['f' 'a']  \n",
       "gill-spacing                                                      ['c' 'w']  \n",
       "gill-size                                                         ['n' 'b']  \n",
       "gill-color                ['k' 'n' 'g' 'p' 'w' 'h' 'u' 'e' 'b' 'r' 'y' 'o']  \n",
       "stalk-shape                                                       ['e' 't']  \n",
       "stalk-root                                            ['e' 'c' 'b' 'r' nan]  \n",
       "stalk-surface-above-ring                                  ['s' 'f' 'k' 'y']  \n",
       "stalk-surface-below-ring                                  ['s' 'f' 'y' 'k']  \n",
       "stalk-color-above-ring                ['w' 'g' 'p' 'n' 'b' 'e' 'o' 'c' 'y']  \n",
       "stalk-color-below-ring                ['w' 'p' 'g' 'b' 'n' 'e' 'y' 'o' 'c']  \n",
       "veil-type                                                             ['p']  \n",
       "veil-color                                                ['w' 'n' 'o' 'y']  \n",
       "ring-number                                                   ['o' 't' 'n']  \n",
       "ring-type                                             ['p' 'e' 'l' 'f' 'n']  \n",
       "spore-print-color                     ['k' 'n' 'u' 'h' 'w' 'r' 'o' 'y' 'b']  \n",
       "population                                        ['s' 'n' 'a' 'v' 'y' 'c']  \n",
       "habitat                                       ['u' 'g' 'm' 'd' 'p' 'w' 'l']  "
      ]
     },
     "execution_count": 8,
     "metadata": {},
     "output_type": "execute_result"
    }
   ],
   "source": [
    "def understand_data(data) :\n",
    "    \n",
    "    return(pd.DataFrame({\"Datatype\":data.dtypes,\n",
    "                         \"No of NAs\":data.isna().sum(),\n",
    "                         \"No of Levels\":data.nunique(axis=0,dropna=True),\n",
    "                         \"Levels\": data.apply(lambda x: str(x.unique()),axis=0)}))\n",
    "understand_data(df)"
   ]
  },
  {
   "cell_type": "raw",
   "id": "5ccd9f6b",
   "metadata": {},
   "source": [
    "All are categorical columns.\n",
    "Large amounts of missing values in stalk-root column\n",
    "\n",
    "Single value column\n",
    "\n",
    "Viel Type\n",
    "Binary Columns(2 Unique Values):\n",
    "\n",
    "class (label)\n",
    "bruises\n",
    "gill-attachment\n",
    "gill-spacing\n",
    "gill-size\n",
    "stalk-shape\n",
    "Nominal Categorical Columns(>2 Unique Values):\n",
    "\n",
    "cap-shape\n",
    "cap-surface\n",
    "cap-color\n",
    "odor\n",
    "gill-color\n",
    "stalk-root\n",
    "stalk-surface-above-ring\n",
    "stalk-surface-below-ring\n",
    "stalk-color-above-ring\n",
    "stalk-color-below-ring\n",
    "veil-color\n",
    "ring-type\n",
    "spore-print-color\n",
    "population\n",
    "habitat"
   ]
  },
  {
   "cell_type": "markdown",
   "id": "28273de1",
   "metadata": {},
   "source": [
    "Handling missing values"
   ]
  },
  {
   "cell_type": "code",
   "execution_count": 9,
   "id": "f9cc9334",
   "metadata": {},
   "outputs": [],
   "source": [
    "#Large amounts of missing values in stalk-root column. Therefore we can drop this column. \n",
    "df.drop(['stalk-root'],axis=1,inplace=True)"
   ]
  },
  {
   "cell_type": "markdown",
   "id": "c04a4b19",
   "metadata": {},
   "source": [
    "Handling Single value column"
   ]
  },
  {
   "cell_type": "code",
   "execution_count": 10,
   "id": "9b402191",
   "metadata": {},
   "outputs": [],
   "source": [
    "#Single value column - Viel Type. We can drop this column\n",
    "df.drop(['veil-type'],axis=1,inplace=True)"
   ]
  },
  {
   "cell_type": "markdown",
   "id": "05a9bc5a",
   "metadata": {},
   "source": [
    "Checking for balanced data"
   ]
  },
  {
   "cell_type": "code",
   "execution_count": 11,
   "id": "5e7518a6",
   "metadata": {},
   "outputs": [
    {
     "data": {
      "text/plain": [
       "array(['p', 'e'], dtype=object)"
      ]
     },
     "execution_count": 11,
     "metadata": {},
     "output_type": "execute_result"
    }
   ],
   "source": [
    "df['class'].unique()"
   ]
  },
  {
   "cell_type": "code",
   "execution_count": 12,
   "id": "8fb9616b",
   "metadata": {},
   "outputs": [
    {
     "data": {
      "text/plain": [
       "e    0.517971\n",
       "p    0.482029\n",
       "Name: class, dtype: float64"
      ]
     },
     "execution_count": 12,
     "metadata": {},
     "output_type": "execute_result"
    }
   ],
   "source": [
    "df['class'].value_counts(normalize=True)"
   ]
  },
  {
   "cell_type": "markdown",
   "id": "ccc82405",
   "metadata": {},
   "source": [
    "Balanced dataset"
   ]
  },
  {
   "cell_type": "code",
   "execution_count": 13,
   "id": "f635f6b0",
   "metadata": {},
   "outputs": [
    {
     "data": {
      "text/html": [
       "<div>\n",
       "<style scoped>\n",
       "    .dataframe tbody tr th:only-of-type {\n",
       "        vertical-align: middle;\n",
       "    }\n",
       "\n",
       "    .dataframe tbody tr th {\n",
       "        vertical-align: top;\n",
       "    }\n",
       "\n",
       "    .dataframe thead th {\n",
       "        text-align: right;\n",
       "    }\n",
       "</style>\n",
       "<table border=\"1\" class=\"dataframe\">\n",
       "  <thead>\n",
       "    <tr style=\"text-align: right;\">\n",
       "      <th></th>\n",
       "      <th>count</th>\n",
       "      <th>unique</th>\n",
       "      <th>top</th>\n",
       "      <th>freq</th>\n",
       "    </tr>\n",
       "  </thead>\n",
       "  <tbody>\n",
       "    <tr>\n",
       "      <th>class</th>\n",
       "      <td>8124</td>\n",
       "      <td>2</td>\n",
       "      <td>e</td>\n",
       "      <td>4208</td>\n",
       "    </tr>\n",
       "    <tr>\n",
       "      <th>cap-shape</th>\n",
       "      <td>8124</td>\n",
       "      <td>6</td>\n",
       "      <td>x</td>\n",
       "      <td>3656</td>\n",
       "    </tr>\n",
       "    <tr>\n",
       "      <th>cap-surface</th>\n",
       "      <td>8124</td>\n",
       "      <td>4</td>\n",
       "      <td>y</td>\n",
       "      <td>3244</td>\n",
       "    </tr>\n",
       "    <tr>\n",
       "      <th>cap-color</th>\n",
       "      <td>8124</td>\n",
       "      <td>10</td>\n",
       "      <td>n</td>\n",
       "      <td>2284</td>\n",
       "    </tr>\n",
       "    <tr>\n",
       "      <th>bruises</th>\n",
       "      <td>8124</td>\n",
       "      <td>2</td>\n",
       "      <td>f</td>\n",
       "      <td>4748</td>\n",
       "    </tr>\n",
       "    <tr>\n",
       "      <th>odor</th>\n",
       "      <td>8124</td>\n",
       "      <td>9</td>\n",
       "      <td>n</td>\n",
       "      <td>3528</td>\n",
       "    </tr>\n",
       "    <tr>\n",
       "      <th>gill-attachment</th>\n",
       "      <td>8124</td>\n",
       "      <td>2</td>\n",
       "      <td>f</td>\n",
       "      <td>7914</td>\n",
       "    </tr>\n",
       "    <tr>\n",
       "      <th>gill-spacing</th>\n",
       "      <td>8124</td>\n",
       "      <td>2</td>\n",
       "      <td>c</td>\n",
       "      <td>6812</td>\n",
       "    </tr>\n",
       "    <tr>\n",
       "      <th>gill-size</th>\n",
       "      <td>8124</td>\n",
       "      <td>2</td>\n",
       "      <td>b</td>\n",
       "      <td>5612</td>\n",
       "    </tr>\n",
       "    <tr>\n",
       "      <th>gill-color</th>\n",
       "      <td>8124</td>\n",
       "      <td>12</td>\n",
       "      <td>b</td>\n",
       "      <td>1728</td>\n",
       "    </tr>\n",
       "    <tr>\n",
       "      <th>stalk-shape</th>\n",
       "      <td>8124</td>\n",
       "      <td>2</td>\n",
       "      <td>t</td>\n",
       "      <td>4608</td>\n",
       "    </tr>\n",
       "    <tr>\n",
       "      <th>stalk-surface-above-ring</th>\n",
       "      <td>8124</td>\n",
       "      <td>4</td>\n",
       "      <td>s</td>\n",
       "      <td>5176</td>\n",
       "    </tr>\n",
       "    <tr>\n",
       "      <th>stalk-surface-below-ring</th>\n",
       "      <td>8124</td>\n",
       "      <td>4</td>\n",
       "      <td>s</td>\n",
       "      <td>4936</td>\n",
       "    </tr>\n",
       "    <tr>\n",
       "      <th>stalk-color-above-ring</th>\n",
       "      <td>8124</td>\n",
       "      <td>9</td>\n",
       "      <td>w</td>\n",
       "      <td>4464</td>\n",
       "    </tr>\n",
       "    <tr>\n",
       "      <th>stalk-color-below-ring</th>\n",
       "      <td>8124</td>\n",
       "      <td>9</td>\n",
       "      <td>w</td>\n",
       "      <td>4384</td>\n",
       "    </tr>\n",
       "    <tr>\n",
       "      <th>veil-color</th>\n",
       "      <td>8124</td>\n",
       "      <td>4</td>\n",
       "      <td>w</td>\n",
       "      <td>7924</td>\n",
       "    </tr>\n",
       "    <tr>\n",
       "      <th>ring-number</th>\n",
       "      <td>8124</td>\n",
       "      <td>3</td>\n",
       "      <td>o</td>\n",
       "      <td>7488</td>\n",
       "    </tr>\n",
       "    <tr>\n",
       "      <th>ring-type</th>\n",
       "      <td>8124</td>\n",
       "      <td>5</td>\n",
       "      <td>p</td>\n",
       "      <td>3968</td>\n",
       "    </tr>\n",
       "    <tr>\n",
       "      <th>spore-print-color</th>\n",
       "      <td>8124</td>\n",
       "      <td>9</td>\n",
       "      <td>w</td>\n",
       "      <td>2388</td>\n",
       "    </tr>\n",
       "    <tr>\n",
       "      <th>population</th>\n",
       "      <td>8124</td>\n",
       "      <td>6</td>\n",
       "      <td>v</td>\n",
       "      <td>4040</td>\n",
       "    </tr>\n",
       "    <tr>\n",
       "      <th>habitat</th>\n",
       "      <td>8124</td>\n",
       "      <td>7</td>\n",
       "      <td>d</td>\n",
       "      <td>3148</td>\n",
       "    </tr>\n",
       "  </tbody>\n",
       "</table>\n",
       "</div>"
      ],
      "text/plain": [
       "                         count unique top  freq\n",
       "class                     8124      2   e  4208\n",
       "cap-shape                 8124      6   x  3656\n",
       "cap-surface               8124      4   y  3244\n",
       "cap-color                 8124     10   n  2284\n",
       "bruises                   8124      2   f  4748\n",
       "odor                      8124      9   n  3528\n",
       "gill-attachment           8124      2   f  7914\n",
       "gill-spacing              8124      2   c  6812\n",
       "gill-size                 8124      2   b  5612\n",
       "gill-color                8124     12   b  1728\n",
       "stalk-shape               8124      2   t  4608\n",
       "stalk-surface-above-ring  8124      4   s  5176\n",
       "stalk-surface-below-ring  8124      4   s  4936\n",
       "stalk-color-above-ring    8124      9   w  4464\n",
       "stalk-color-below-ring    8124      9   w  4384\n",
       "veil-color                8124      4   w  7924\n",
       "ring-number               8124      3   o  7488\n",
       "ring-type                 8124      5   p  3968\n",
       "spore-print-color         8124      9   w  2388\n",
       "population                8124      6   v  4040\n",
       "habitat                   8124      7   d  3148"
      ]
     },
     "execution_count": 13,
     "metadata": {},
     "output_type": "execute_result"
    }
   ],
   "source": [
    "# Check the summary statistics \n",
    "df.describe().T"
   ]
  },
  {
   "cell_type": "markdown",
   "id": "917fa43e",
   "metadata": {},
   "source": [
    "# EDA"
   ]
  },
  {
   "cell_type": "code",
   "execution_count": 14,
   "id": "87727f2c",
   "metadata": {},
   "outputs": [],
   "source": [
    "column_list = list(df.columns.values)\n",
    "column_list.remove('class')"
   ]
  },
  {
   "cell_type": "code",
   "execution_count": 15,
   "id": "583ee93c",
   "metadata": {},
   "outputs": [
    {
     "data": {
      "image/png": "[encoded data removed]",
      "text/plain": [
       "<Figure size 720x432 with 1 Axes>"
      ]
     },
     "metadata": {
      "needs_background": "light"
     },
     "output_type": "display_data"
    },
    {
     "data": {
      "image/png": "[encoded data removed]",
      "text/plain": [
       "<Figure size 720x432 with 1 Axes>"
      ]
     },
     "metadata": {
      "needs_background": "light"
     },
     "output_type": "display_data"
    },
    {
     "data": {
      "image/png": "[encoded data removed]",
      "text/plain": [
       "<Figure size 720x432 with 1 Axes>"
      ]
     },
     "metadata": {
      "needs_background": "light"
     },
     "output_type": "display_data"
    },
    {
     "data": {
      "image/png": "[encoded data removed]",
      "text/plain": [
       "<Figure size 720x432 with 1 Axes>"
      ]
     },
     "metadata": {
      "needs_background": "light"
     },
     "output_type": "display_data"
    },
    {
     "data": {
      "image/png": "[encoded data removed]",
      "text/plain": [
       "<Figure size 720x432 with 1 Axes>"
      ]
     },
     "metadata": {
      "needs_background": "light"
     },
     "output_type": "display_data"
    },
    {
     "data": {
      "image/png": "[encoded data removed]",
      "text/plain": [
       "<Figure size 720x432 with 1 Axes>"
      ]
     },
     "metadata": {
      "needs_background": "light"
     },
     "output_type": "display_data"
    },
    {
     "data": {
      "image/png": "[encoded data removed]",
      "text/plain": [
       "<Figure size 720x432 with 1 Axes>"
      ]
     },
     "metadata": {
      "needs_background": "light"
     },
     "output_type": "display_data"
    },
    {
     "data": {
      "image/png": "[encoded data removed]",
      "text/plain": [
       "<Figure size 720x432 with 1 Axes>"
      ]
     },
     "metadata": {
      "needs_background": "light"
     },
     "output_type": "display_data"
    },
    {
     "data": {
      "image/png": "[encoded data removed]",
      "text/plain": [
       "<Figure size 720x432 with 1 Axes>"
      ]
     },
     "metadata": {
      "needs_background": "light"
     },
     "output_type": "display_data"
    },
    {
     "data": {
      "image/png": "[encoded data removed]",
      "text/plain": [
       "<Figure size 720x432 with 1 Axes>"
      ]
     },
     "metadata": {
      "needs_background": "light"
     },
     "output_type": "display_data"
    },
    {
     "data": {
      "image/png": "[encoded data removed]",
      "text/plain": [
       "<Figure size 720x432 with 1 Axes>"
      ]
     },
     "metadata": {
      "needs_background": "light"
     },
     "output_type": "display_data"
    },
    {
     "data": {
      "image/png": "[encoded data removed]",
      "text/plain": [
       "<Figure size 720x432 with 1 Axes>"
      ]
     },
     "metadata": {
      "needs_background": "light"
     },
     "output_type": "display_data"
    },
    {
     "data": {
      "image/png": "[encoded data removed]",
      "text/plain": [
       "<Figure size 720x432 with 1 Axes>"
      ]
     },
     "metadata": {
      "needs_background": "light"
     },
     "output_type": "display_data"
    },
    {
     "data": {
      "image/png": "[encoded data removed]",
      "text/plain": [
       "<Figure size 720x432 with 1 Axes>"
      ]
     },
     "metadata": {
      "needs_background": "light"
     },
     "output_type": "display_data"
    },
    {
     "data": {
      "image/png": "[encoded data removed]",
      "text/plain": [
       "<Figure size 720x432 with 1 Axes>"
      ]
     },
     "metadata": {
      "needs_background": "light"
     },
     "output_type": "display_data"
    },
    {
     "data": {
      "image/png": "[encoded data removed]",
      "text/plain": [
       "<Figure size 720x432 with 1 Axes>"
      ]
     },
     "metadata": {
      "needs_background": "light"
     },
     "output_type": "display_data"
    },
    {
     "data": {
      "image/png": "[encoded data removed]",
      "text/plain": [
       "<Figure size 720x432 with 1 Axes>"
      ]
     },
     "metadata": {
      "needs_background": "light"
     },
     "output_type": "display_data"
    },
    {
     "data": {
      "image/png": "[encoded data removed]",
      "text/plain": [
       "<Figure size 720x432 with 1 Axes>"
      ]
     },
     "metadata": {
      "needs_background": "light"
     },
     "output_type": "display_data"
    },
    {
     "data": {
      "image/png": "[encoded data removed]",
      "text/plain": [
       "<Figure size 720x432 with 1 Axes>"
      ]
     },
     "metadata": {
      "needs_background": "light"
     },
     "output_type": "display_data"
    },
    {
     "data": {
      "image/png": "[encoded data removed]",
      "text/plain": [
       "<Figure size 720x432 with 1 Axes>"
      ]
     },
     "metadata": {
      "needs_background": "light"
     },
     "output_type": "display_data"
    }
   ],
   "source": [
    "for i in column_list:\n",
    "    plt.figure(figsize=(10, 6))\n",
    "    splot = sns.countplot(data=df, x=i,hue='class',order = df[i].value_counts().index)\n",
    "    for p in splot.patches:\n",
    "        splot.annotate(format(p.get_height(), '.1f'),\n",
    "                       (p.get_x() + p.get_width() / 2., p.get_height()),\n",
    "                       ha='center', va='center',\n",
    "                       xytext=(0, 9),\n",
    "                       textcoords='offset points')\n",
    "    plt.legend(['Poisonous', 'Edible'], loc='upper right')\n",
    "    plt.title('Distribution of the Mushrooms by their Classes and {}'.format(i))\n",
    "    plt.show()"
   ]
  },
  {
   "cell_type": "markdown",
   "id": "e9bbc798",
   "metadata": {},
   "source": [
    "# Statistical Significance"
   ]
  },
  {
   "cell_type": "code",
   "execution_count": 16,
   "id": "1d4b7e0c",
   "metadata": {},
   "outputs": [],
   "source": [
    "#Since target variable Class and independent variables are categorical\n",
    "#We can use Chi-Square test to check the measure of Association\n",
    "\n",
    "#Conduct the test we have to conduct 2 hypothesis. \n",
    "#Null Hypothesis H0 -  There is no relationship between the variables Class and independent variable [i]\n",
    "#Alternative Hypotheis H1 -  There is relationship between variables Class and independent variable [i]\n",
    "\n",
    "#If the p-value obtained after conducting the test is less than 0.05 we reject the Null hypothesis\n",
    "#and accept the Alternate hypothesis \n",
    "#If the p-value is greater that 0.05 we fail to reject the Null hypothesis"
   ]
  },
  {
   "cell_type": "code",
   "execution_count": 17,
   "id": "b2d58297",
   "metadata": {},
   "outputs": [
    {
     "name": "stdout",
     "output_type": "stream",
     "text": [
      "cap-shape    b  c     f    k   s     x\n",
      "class                                 \n",
      "e          404  0  1596  228  32  1948\n",
      "p           48  4  1556  600   0  1708\n",
      "Statistical value =  489.9199536189558\n",
      "p value =  1.1964565685935438e-103\n",
      "Degrees of freedom =  5\n",
      "The p-value < 0.05 we reject the Null hypothesis and accept the Alternate hypothesis \n",
      " There is dependency between variables class and cap-shape\n",
      "cap-surface     f  g     s     y\n",
      "class                           \n",
      "e            1560  0  1144  1504\n",
      "p             760  4  1412  1740\n",
      "Statistical value =  315.0428312080377\n",
      "p value =  5.518427038649143e-68\n",
      "Degrees of freedom =  3\n",
      "The p-value < 0.05 we reject the Null hypothesis and accept the Alternate hypothesis \n",
      " There is dependency between variables class and cap-surface\n",
      "cap-color    b   c    e     g     n   p   r   u    w    y\n",
      "class                                                    \n",
      "e           48  32  624  1032  1264  56  16  16  720  400\n",
      "p          120  12  876   808  1020  88   0   0  320  672\n",
      "Statistical value =  387.5977689772298\n",
      "p value =  6.055814598336576e-78\n",
      "Degrees of freedom =  9\n",
      "The p-value < 0.05 we reject the Null hypothesis and accept the Alternate hypothesis \n",
      " There is dependency between variables class and cap-color\n",
      "bruises     f     t\n",
      "class              \n",
      "e        1456  2752\n",
      "p        3292   624\n",
      "Statistical value =  2041.4156474619554\n",
      "p value =  0.0\n",
      "Degrees of freedom =  1\n",
      "The p-value < 0.05 we reject the Null hypothesis and accept the Alternate hypothesis \n",
      " There is dependency between variables class and bruises\n",
      "odor     a    c     f    l   m     n    p    s    y\n",
      "class                                              \n",
      "e      400    0     0  400   0  3408    0    0    0\n",
      "p        0  192  2160    0  36   120  256  576  576\n",
      "Statistical value =  7659.726740165339\n",
      "p value =  0.0\n",
      "Degrees of freedom =  8\n",
      "The p-value < 0.05 we reject the Null hypothesis and accept the Alternate hypothesis \n",
      " There is dependency between variables class and odor\n",
      "gill-attachment    a     f\n",
      "class                     \n",
      "e                192  4016\n",
      "p                 18  3898\n",
      "Statistical value =  133.9861812865668\n",
      "p value =  5.501707411861009e-31\n",
      "Degrees of freedom =  1\n",
      "The p-value < 0.05 we reject the Null hypothesis and accept the Alternate hypothesis \n",
      " There is dependency between variables class and gill-attachment\n",
      "gill-spacing     c     w\n",
      "class                   \n",
      "e             3008  1200\n",
      "p             3804   112\n",
      "Statistical value =  984.1433330144739\n",
      "p value =  5.0229776137324786e-216\n",
      "Degrees of freedom =  1\n",
      "The p-value < 0.05 we reject the Null hypothesis and accept the Alternate hypothesis \n",
      " There is dependency between variables class and gill-spacing\n",
      "gill-size     b     n\n",
      "class                \n",
      "e          3920   288\n",
      "p          1692  2224\n",
      "Statistical value =  2366.8342569059605\n",
      "p value =  0.0\n",
      "Degrees of freedom =  1\n",
      "The p-value < 0.05 we reject the Null hypothesis and accept the Alternate hypothesis \n",
      " There is dependency between variables class and gill-size\n",
      "gill-color     b   e    g    h    k    n   o    p   r    u    w   y\n",
      "class                                                              \n",
      "e              0  96  248  204  344  936  64  852   0  444  956  64\n",
      "p           1728   0  504  528   64  112   0  640  24   48  246  22\n",
      "Statistical value =  3765.714086241481\n",
      "p value =  0.0\n",
      "Degrees of freedom =  11\n",
      "The p-value < 0.05 we reject the Null hypothesis and accept the Alternate hypothesis \n",
      " There is dependency between variables class and gill-color\n",
      "stalk-shape     e     t\n",
      "class                  \n",
      "e            1616  2592\n",
      "p            1900  2016\n",
      "Statistical value =  84.14203826548719\n",
      "p value =  4.604746212155192e-20\n",
      "Degrees of freedom =  1\n",
      "The p-value < 0.05 we reject the Null hypothesis and accept the Alternate hypothesis \n",
      " There is dependency between variables class and stalk-shape\n",
      "stalk-surface-above-ring    f     k     s   y\n",
      "class                                        \n",
      "e                         408   144  3640  16\n",
      "p                         144  2228  1536   8\n",
      "Statistical value =  2808.2862874186076\n",
      "p value =  0.0\n",
      "Degrees of freedom =  3\n",
      "The p-value < 0.05 we reject the Null hypothesis and accept the Alternate hypothesis \n",
      " There is dependency between variables class and stalk-surface-above-ring\n",
      "stalk-surface-below-ring    f     k     s    y\n",
      "class                                         \n",
      "e                         456   144  3400  208\n",
      "p                         144  2160  1536   76\n",
      "Statistical value =  2684.4740763290565\n",
      "p value =  0.0\n",
      "Degrees of freedom =  3\n",
      "The p-value < 0.05 we reject the Null hypothesis and accept the Alternate hypothesis \n",
      " There is dependency between variables class and stalk-surface-below-ring\n",
      "stalk-color-above-ring    b   c   e    g    n    o     p     w  y\n",
      "class                                                            \n",
      "e                         0   0  96  576   16  192   576  2752  0\n",
      "p                       432  36   0    0  432    0  1296  1712  8\n",
      "Statistical value =  2237.898496448818\n",
      "p value =  0.0\n",
      "Degrees of freedom =  8\n",
      "The p-value < 0.05 we reject the Null hypothesis and accept the Alternate hypothesis \n",
      " There is dependency between variables class and stalk-color-above-ring\n",
      "stalk-color-below-ring    b   c   e    g    n    o     p     w   y\n",
      "class                                                             \n",
      "e                         0   0  96  576   64  192   576  2704   0\n",
      "p                       432  36   0    0  448    0  1296  1680  24\n",
      "Statistical value =  2152.3908905982817\n",
      "p value =  0.0\n",
      "Degrees of freedom =  8\n",
      "The p-value < 0.05 we reject the Null hypothesis and accept the Alternate hypothesis \n",
      " There is dependency between variables class and stalk-color-below-ring\n",
      "veil-color   n   o     w  y\n",
      "class                      \n",
      "e           96  96  4016  0\n",
      "p            0   0  3908  8\n",
      "Statistical value =  191.22370152470324\n",
      "p value =  3.32097274916963e-41\n",
      "Degrees of freedom =  3\n",
      "The p-value < 0.05 we reject the Null hypothesis and accept the Alternate hypothesis \n",
      " There is dependency between variables class and veil-color\n",
      "ring-number   n     o    t\n",
      "class                     \n",
      "e             0  3680  528\n",
      "p            36  3808   72\n",
      "Statistical value =  374.7368308267115\n",
      "p value =  4.23575764172306e-82\n",
      "Degrees of freedom =  2\n",
      "The p-value < 0.05 we reject the Null hypothesis and accept the Alternate hypothesis \n",
      " There is dependency between variables class and ring-number\n",
      "ring-type     e   f     l   n     p\n",
      "class                              \n",
      "e          1008  48     0   0  3152\n",
      "p          1768   0  1296  36   816\n",
      "Statistical value =  2956.619278057532\n",
      "p value =  0.0\n",
      "Degrees of freedom =  4\n",
      "The p-value < 0.05 we reject the Null hypothesis and accept the Alternate hypothesis \n",
      " There is dependency between variables class and ring-type\n",
      "spore-print-color   b     h     k     n   o   r   u     w   y\n",
      "class                                                        \n",
      "e                  48    48  1648  1744  48   0  48   576  48\n",
      "p                   0  1584   224   224   0  72   0  1812   0\n",
      "Statistical value =  4602.0331700846045\n",
      "p value =  0.0\n",
      "Degrees of freedom =  8\n",
      "The p-value < 0.05 we reject the Null hypothesis and accept the Alternate hypothesis \n",
      " There is dependency between variables class and spore-print-color\n",
      "population    a    c    n    s     v     y\n",
      "class                                     \n",
      "e           384  288  400  880  1192  1064\n",
      "p             0   52    0  368  2848   648\n",
      "Statistical value =  1929.7408909028088\n",
      "p value =  0.0\n",
      "Degrees of freedom =  5\n",
      "The p-value < 0.05 we reject the Null hypothesis and accept the Alternate hypothesis \n",
      " There is dependency between variables class and population\n",
      "habitat     d     g    l    m     p    u    w\n",
      "class                                        \n",
      "e        1880  1408  240  256   136   96  192\n",
      "p        1268   740  592   36  1008  272    0\n",
      "Statistical value =  1573.7772608252621\n",
      "p value =  0.0\n",
      "Degrees of freedom =  6\n",
      "The p-value < 0.05 we reject the Null hypothesis and accept the Alternate hypothesis \n",
      " There is dependency between variables class and habitat\n"
     ]
    }
   ],
   "source": [
    "import scipy.stats as st \n",
    "stat_value = []\n",
    "for j in column_list: \n",
    "    crosstab = pd.crosstab(df['class'],df[j])\n",
    "    print(crosstab)\n",
    "    \n",
    "    #using st.chi2_contigency()\n",
    "    test_value,p_value,dof = st.chi2_contingency(crosstab)[0:3]\n",
    "    print('Statistical value = ', test_value )\n",
    "    print('p value = ', p_value )\n",
    "    print('Degrees of freedom = ', dof ) \n",
    "    stat_value.append(test_value)\n",
    "    if  p_value < 0.05:\n",
    "        print('The p-value < 0.05 we reject the Null hypothesis and accept the Alternate hypothesis','\\n',\n",
    "              'There is dependency between variables class and {}'.format(j))\n",
    "    else:\n",
    "        print('The p-value > 0.05 we fail to reject the Null hypothesis','\\n',\n",
    "              'There is no dependency between variables class and {}'.format(j))"
   ]
  },
  {
   "cell_type": "code",
   "execution_count": 18,
   "id": "2b5e04ef",
   "metadata": {},
   "outputs": [
    {
     "data": {
      "image/png": "[encoded data removed]",
      "text/plain": [
       "<Figure size 1440x432 with 1 Axes>"
      ]
     },
     "metadata": {
      "needs_background": "light"
     },
     "output_type": "display_data"
    }
   ],
   "source": [
    "#Attributes associated with edibility\n",
    "association = pd.DataFrame({'Attributes':column_list,\n",
    "                            'statistical-value':stat_value}).sort_values('statistical-value',ascending=False)\n",
    "plt.figure(figsize=(20, 6))\n",
    "sns.barplot(x='Attributes',y='statistical-value',data=association)\n",
    "plt.xticks(rotation = 45)\n",
    "plt.show()"
   ]
  },
  {
   "cell_type": "markdown",
   "id": "11ea68c1",
   "metadata": {},
   "source": [
    "# Data Transformation"
   ]
  },
  {
   "cell_type": "code",
   "execution_count": 19,
   "id": "3b3d0837",
   "metadata": {},
   "outputs": [],
   "source": [
    "#Since the features are all nominal in nature, we have to do one hot encoding \n",
    "df_en= pd.get_dummies(df)"
   ]
  },
  {
   "cell_type": "code",
   "execution_count": 20,
   "id": "05e2ed0a",
   "metadata": {},
   "outputs": [
    {
     "data": {
      "text/html": [
       "<div>\n",
       "<style scoped>\n",
       "    .dataframe tbody tr th:only-of-type {\n",
       "        vertical-align: middle;\n",
       "    }\n",
       "\n",
       "    .dataframe tbody tr th {\n",
       "        vertical-align: top;\n",
       "    }\n",
       "\n",
       "    .dataframe thead th {\n",
       "        text-align: right;\n",
       "    }\n",
       "</style>\n",
       "<table border=\"1\" class=\"dataframe\">\n",
       "  <thead>\n",
       "    <tr style=\"text-align: right;\">\n",
       "      <th></th>\n",
       "      <th>class_e</th>\n",
       "      <th>class_p</th>\n",
       "      <th>cap-shape_b</th>\n",
       "      <th>cap-shape_c</th>\n",
       "      <th>cap-shape_f</th>\n",
       "      <th>cap-shape_k</th>\n",
       "      <th>cap-shape_s</th>\n",
       "      <th>cap-shape_x</th>\n",
       "      <th>cap-surface_f</th>\n",
       "      <th>cap-surface_g</th>\n",
       "      <th>...</th>\n",
       "      <th>population_s</th>\n",
       "      <th>population_v</th>\n",
       "      <th>population_y</th>\n",
       "      <th>habitat_d</th>\n",
       "      <th>habitat_g</th>\n",
       "      <th>habitat_l</th>\n",
       "      <th>habitat_m</th>\n",
       "      <th>habitat_p</th>\n",
       "      <th>habitat_u</th>\n",
       "      <th>habitat_w</th>\n",
       "    </tr>\n",
       "  </thead>\n",
       "  <tbody>\n",
       "    <tr>\n",
       "      <th>0</th>\n",
       "      <td>0</td>\n",
       "      <td>1</td>\n",
       "      <td>0</td>\n",
       "      <td>0</td>\n",
       "      <td>0</td>\n",
       "      <td>0</td>\n",
       "      <td>0</td>\n",
       "      <td>1</td>\n",
       "      <td>0</td>\n",
       "      <td>0</td>\n",
       "      <td>...</td>\n",
       "      <td>1</td>\n",
       "      <td>0</td>\n",
       "      <td>0</td>\n",
       "      <td>0</td>\n",
       "      <td>0</td>\n",
       "      <td>0</td>\n",
       "      <td>0</td>\n",
       "      <td>0</td>\n",
       "      <td>1</td>\n",
       "      <td>0</td>\n",
       "    </tr>\n",
       "    <tr>\n",
       "      <th>1</th>\n",
       "      <td>1</td>\n",
       "      <td>0</td>\n",
       "      <td>0</td>\n",
       "      <td>0</td>\n",
       "      <td>0</td>\n",
       "      <td>0</td>\n",
       "      <td>0</td>\n",
       "      <td>1</td>\n",
       "      <td>0</td>\n",
       "      <td>0</td>\n",
       "      <td>...</td>\n",
       "      <td>0</td>\n",
       "      <td>0</td>\n",
       "      <td>0</td>\n",
       "      <td>0</td>\n",
       "      <td>1</td>\n",
       "      <td>0</td>\n",
       "      <td>0</td>\n",
       "      <td>0</td>\n",
       "      <td>0</td>\n",
       "      <td>0</td>\n",
       "    </tr>\n",
       "    <tr>\n",
       "      <th>2</th>\n",
       "      <td>1</td>\n",
       "      <td>0</td>\n",
       "      <td>1</td>\n",
       "      <td>0</td>\n",
       "      <td>0</td>\n",
       "      <td>0</td>\n",
       "      <td>0</td>\n",
       "      <td>0</td>\n",
       "      <td>0</td>\n",
       "      <td>0</td>\n",
       "      <td>...</td>\n",
       "      <td>0</td>\n",
       "      <td>0</td>\n",
       "      <td>0</td>\n",
       "      <td>0</td>\n",
       "      <td>0</td>\n",
       "      <td>0</td>\n",
       "      <td>1</td>\n",
       "      <td>0</td>\n",
       "      <td>0</td>\n",
       "      <td>0</td>\n",
       "    </tr>\n",
       "    <tr>\n",
       "      <th>3</th>\n",
       "      <td>0</td>\n",
       "      <td>1</td>\n",
       "      <td>0</td>\n",
       "      <td>0</td>\n",
       "      <td>0</td>\n",
       "      <td>0</td>\n",
       "      <td>0</td>\n",
       "      <td>1</td>\n",
       "      <td>0</td>\n",
       "      <td>0</td>\n",
       "      <td>...</td>\n",
       "      <td>1</td>\n",
       "      <td>0</td>\n",
       "      <td>0</td>\n",
       "      <td>0</td>\n",
       "      <td>0</td>\n",
       "      <td>0</td>\n",
       "      <td>0</td>\n",
       "      <td>0</td>\n",
       "      <td>1</td>\n",
       "      <td>0</td>\n",
       "    </tr>\n",
       "    <tr>\n",
       "      <th>4</th>\n",
       "      <td>1</td>\n",
       "      <td>0</td>\n",
       "      <td>0</td>\n",
       "      <td>0</td>\n",
       "      <td>0</td>\n",
       "      <td>0</td>\n",
       "      <td>0</td>\n",
       "      <td>1</td>\n",
       "      <td>0</td>\n",
       "      <td>0</td>\n",
       "      <td>...</td>\n",
       "      <td>0</td>\n",
       "      <td>0</td>\n",
       "      <td>0</td>\n",
       "      <td>0</td>\n",
       "      <td>1</td>\n",
       "      <td>0</td>\n",
       "      <td>0</td>\n",
       "      <td>0</td>\n",
       "      <td>0</td>\n",
       "      <td>0</td>\n",
       "    </tr>\n",
       "  </tbody>\n",
       "</table>\n",
       "<p>5 rows × 113 columns</p>\n",
       "</div>"
      ],
      "text/plain": [
       "   class_e  class_p  cap-shape_b  cap-shape_c  cap-shape_f  cap-shape_k  \\\n",
       "0        0        1            0            0            0            0   \n",
       "1        1        0            0            0            0            0   \n",
       "2        1        0            1            0            0            0   \n",
       "3        0        1            0            0            0            0   \n",
       "4        1        0            0            0            0            0   \n",
       "\n",
       "   cap-shape_s  cap-shape_x  cap-surface_f  cap-surface_g  ...  population_s  \\\n",
       "0            0            1              0              0  ...             1   \n",
       "1            0            1              0              0  ...             0   \n",
       "2            0            0              0              0  ...             0   \n",
       "3            0            1              0              0  ...             1   \n",
       "4            0            1              0              0  ...             0   \n",
       "\n",
       "   population_v  population_y  habitat_d  habitat_g  habitat_l  habitat_m  \\\n",
       "0             0             0          0          0          0          0   \n",
       "1             0             0          0          1          0          0   \n",
       "2             0             0          0          0          0          1   \n",
       "3             0             0          0          0          0          0   \n",
       "4             0             0          0          1          0          0   \n",
       "\n",
       "   habitat_p  habitat_u  habitat_w  \n",
       "0          0          1          0  \n",
       "1          0          0          0  \n",
       "2          0          0          0  \n",
       "3          0          1          0  \n",
       "4          0          0          0  \n",
       "\n",
       "[5 rows x 113 columns]"
      ]
     },
     "execution_count": 20,
     "metadata": {},
     "output_type": "execute_result"
    }
   ],
   "source": [
    "df_en.head()"
   ]
  },
  {
   "cell_type": "code",
   "execution_count": 21,
   "id": "f92056aa",
   "metadata": {},
   "outputs": [
    {
     "data": {
      "text/plain": [
       "(8124, 113)"
      ]
     },
     "execution_count": 21,
     "metadata": {},
     "output_type": "execute_result"
    }
   ],
   "source": [
    "df_en.shape"
   ]
  },
  {
   "cell_type": "markdown",
   "id": "f92f257a",
   "metadata": {},
   "source": [
    "# Feature selection"
   ]
  },
  {
   "cell_type": "code",
   "execution_count": 22,
   "id": "06b6dd05",
   "metadata": {},
   "outputs": [
    {
     "name": "stdout",
     "output_type": "stream",
     "text": [
      "['stalk-color-above-ring_c', 'stalk-color-above-ring_o', 'stalk-color-below-ring_c', 'stalk-color-below-ring_o', 'veil-color_w', 'veil-color_y', 'ring-number_n', 'ring-type_n']\n"
     ]
    }
   ],
   "source": [
    "#Correlation study to for feature selection \n",
    "corr_matrix= df_en.corr()\n",
    " # Select upper triangle of correlation matrix\n",
    "upper = corr_matrix.where(np.triu(np.ones(corr_matrix.shape), k=1).astype(np.bool))\n",
    "# Find index of feature columns with correlation greater than 0.9 or less than 0.9\n",
    "to_drop = [column for column in upper.columns if any(abs(upper[column] > 0.9))]\n",
    "print(to_drop)"
   ]
  },
  {
   "cell_type": "code",
   "execution_count": 23,
   "id": "22553b76",
   "metadata": {},
   "outputs": [],
   "source": [
    "#defining the dependent and independent variables \n",
    "X = df_en.drop(['class_e','class_p','stalk-color-above-ring_c', 'stalk-color-above-ring_o', \n",
    "                'stalk-color-below-ring_c', 'stalk-color-below-ring_o', 'veil-color_w', \n",
    "                'veil-color_y', 'ring-number_n', 'ring-type_n'],axis=1)\n",
    "y = df_en['class_p']"
   ]
  },
  {
   "cell_type": "markdown",
   "id": "e52e793d",
   "metadata": {},
   "source": [
    "# Modelling"
   ]
  },
  {
   "cell_type": "code",
   "execution_count": 24,
   "id": "078de2b2",
   "metadata": {},
   "outputs": [],
   "source": [
    "#Splitting the dataset into train and validation test \n",
    "from sklearn.model_selection import train_test_split\n",
    "X_train,X_test,y_train,y_test = train_test_split(X,y,random_state=42,test_size = 0.3)"
   ]
  },
  {
   "cell_type": "code",
   "execution_count": 25,
   "id": "971f3a04",
   "metadata": {},
   "outputs": [
    {
     "data": {
      "text/plain": [
       "(5686, 103)"
      ]
     },
     "execution_count": 25,
     "metadata": {},
     "output_type": "execute_result"
    }
   ],
   "source": [
    "X_train.shape"
   ]
  },
  {
   "cell_type": "code",
   "execution_count": 26,
   "id": "8695e96d",
   "metadata": {},
   "outputs": [
    {
     "data": {
      "text/plain": [
       "(2438, 103)"
      ]
     },
     "execution_count": 26,
     "metadata": {},
     "output_type": "execute_result"
    }
   ],
   "source": [
    "X_test.shape"
   ]
  },
  {
   "cell_type": "code",
   "execution_count": 27,
   "id": "17a95364",
   "metadata": {},
   "outputs": [
    {
     "data": {
      "text/plain": [
       "(5686,)"
      ]
     },
     "execution_count": 27,
     "metadata": {},
     "output_type": "execute_result"
    }
   ],
   "source": [
    "y_train.shape"
   ]
  },
  {
   "cell_type": "code",
   "execution_count": 28,
   "id": "58c949d3",
   "metadata": {},
   "outputs": [
    {
     "data": {
      "text/plain": [
       "(2438,)"
      ]
     },
     "execution_count": 28,
     "metadata": {},
     "output_type": "execute_result"
    }
   ],
   "source": [
    "y_test.shape"
   ]
  },
  {
   "cell_type": "code",
   "execution_count": 29,
   "id": "e29e513d",
   "metadata": {},
   "outputs": [],
   "source": [
    "from sklearn.linear_model import LogisticRegression\n",
    "from sklearn.tree import DecisionTreeClassifier\n",
    "from sklearn.ensemble import RandomForestClassifier\n",
    "from sklearn.neighbors import KNeighborsClassifier\n",
    "from sklearn.ensemble import GradientBoostingClassifier\n",
    "from sklearn.naive_bayes import GaussianNB\n",
    "from sklearn.metrics import f1_score\n",
    "from sklearn.metrics import recall_score\n",
    "from sklearn.metrics import precision_score\n",
    "from sklearn.metrics import accuracy_score\n",
    "from sklearn.metrics import confusion_matrix, classification_report"
   ]
  },
  {
   "cell_type": "markdown",
   "id": "15582416",
   "metadata": {},
   "source": [
    "Accuracy is the measure of how many observations our model correctly predicted over the total number of observations\n",
    "Accuracy = (TP + TN) / (TP + TN + FP + FN)\n",
    "For example, In a sample of hundreds of apples and oranges, the accuracy of the machine will be how many apples it classified correctly as apples and how many oranges it classified as not apples divided by the total number of apples and oranges. It is a simple and effective measurement as long as the number of apples and oranges are the same. ie balanced dataset. Otherwise, we may have to use a different evaluation metric.\n",
    "\n",
    "Precision is how good the model is at predicting a specific category. Precision is the measure of how many observations our model correctly predicted over the amount of correct and incorrect predictions.\n",
    "\n",
    "Precision = TP / (TP + FP)\n",
    "Using our apple and oranges example, precision would measure the number of correctly classified apples divided by the apples correctly labeled as apples and the oranges incorrectly labeled as apples. In other words, precision measures how many of our classified apples were actually oranges.\n",
    "Recall tells you how many times the model was able to detect a specific category over the total amount of observations.\n",
    "Recall = TP / (TP + FN)\n",
    "In our apples and oranges example, recall measures the amount apples labeled correctly divided by the total amount of apples present. In other words, recall measures how many apples we might have missed in the entire sample of fruit. -F1 Score\n",
    "If we put our focus into one score, we might end up neglecting the other. In order to combat this we can use the F1 Score, which strikes a balance between the Precision and Recall scores. To calculate the F1 Score, you need to know the Precision and Recall scores and input them into the following formula:\n",
    "F1 Score = 2 ( (Precision Recall) / (Precision + Recall) )\n",
    "Using our apples and oranges example, F1 score will calculate a balance between Precision and Recall. It will measure the amount of misclassified oranges as apples (False Positives) and the amount of apples not correctly classified as apples (False Negatives).\n",
    "Here we are trying to detect if our mushroom is poisonus or not.\n",
    "- In this case, we would want to reduce the amount of False negatives because we hope to not miss any poison mushrooms in the batch.\n",
    "- Recall would be the best evaluation metric to use here because it measures how many poison mushroom we might have missed.\n",
    "- We would rather be safe than sorry."
   ]
  },
  {
   "cell_type": "markdown",
   "id": "f3bb68f4",
   "metadata": {},
   "source": [
    "# 1. Logistic Regression"
   ]
  },
  {
   "cell_type": "code",
   "execution_count": 30,
   "id": "c464b1ec",
   "metadata": {},
   "outputs": [],
   "source": [
    "log_model=LogisticRegression()\n",
    "log_model.fit(X_train,y_train)\n",
    "\n",
    "y_predict=log_model.predict(X_test)"
   ]
  },
  {
   "cell_type": "code",
   "execution_count": 31,
   "id": "af258065",
   "metadata": {},
   "outputs": [
    {
     "name": "stdout",
     "output_type": "stream",
     "text": [
      "Results from logistic regression are as below\n"
     ]
    },
    {
     "data": {
      "text/html": [
       "<div>\n",
       "<style scoped>\n",
       "    .dataframe tbody tr th:only-of-type {\n",
       "        vertical-align: middle;\n",
       "    }\n",
       "\n",
       "    .dataframe tbody tr th {\n",
       "        vertical-align: top;\n",
       "    }\n",
       "\n",
       "    .dataframe thead th {\n",
       "        text-align: right;\n",
       "    }\n",
       "</style>\n",
       "<table border=\"1\" class=\"dataframe\">\n",
       "  <thead>\n",
       "    <tr style=\"text-align: right;\">\n",
       "      <th></th>\n",
       "      <th>precision</th>\n",
       "      <th>recall</th>\n",
       "      <th>f1-score</th>\n",
       "      <th>support</th>\n",
       "    </tr>\n",
       "  </thead>\n",
       "  <tbody>\n",
       "    <tr>\n",
       "      <th>0</th>\n",
       "      <td>1.000000</td>\n",
       "      <td>0.999205</td>\n",
       "      <td>0.999602</td>\n",
       "      <td>1258.00000</td>\n",
       "    </tr>\n",
       "    <tr>\n",
       "      <th>1</th>\n",
       "      <td>0.999153</td>\n",
       "      <td>1.000000</td>\n",
       "      <td>0.999576</td>\n",
       "      <td>1180.00000</td>\n",
       "    </tr>\n",
       "    <tr>\n",
       "      <th>accuracy</th>\n",
       "      <td>0.999590</td>\n",
       "      <td>0.999590</td>\n",
       "      <td>0.999590</td>\n",
       "      <td>0.99959</td>\n",
       "    </tr>\n",
       "    <tr>\n",
       "      <th>macro avg</th>\n",
       "      <td>0.999577</td>\n",
       "      <td>0.999603</td>\n",
       "      <td>0.999589</td>\n",
       "      <td>2438.00000</td>\n",
       "    </tr>\n",
       "    <tr>\n",
       "      <th>weighted avg</th>\n",
       "      <td>0.999590</td>\n",
       "      <td>0.999590</td>\n",
       "      <td>0.999590</td>\n",
       "      <td>2438.00000</td>\n",
       "    </tr>\n",
       "  </tbody>\n",
       "</table>\n",
       "</div>"
      ],
      "text/plain": [
       "              precision    recall  f1-score     support\n",
       "0              1.000000  0.999205  0.999602  1258.00000\n",
       "1              0.999153  1.000000  0.999576  1180.00000\n",
       "accuracy       0.999590  0.999590  0.999590     0.99959\n",
       "macro avg      0.999577  0.999603  0.999589  2438.00000\n",
       "weighted avg   0.999590  0.999590  0.999590  2438.00000"
      ]
     },
     "execution_count": 31,
     "metadata": {},
     "output_type": "execute_result"
    }
   ],
   "source": [
    "print(\"Results from logistic regression are as below\")\n",
    "log_result = classification_report(y_predict,y_test,output_dict=True)\n",
    "log_result = pd.DataFrame(log_result).transpose()\n",
    "log_result"
   ]
  },
  {
   "cell_type": "code",
   "execution_count": 41,
   "id": "7bd01810",
   "metadata": {},
   "outputs": [
    {
     "data": {
      "text/html": [
       "<div>\n",
       "<style scoped>\n",
       "    .dataframe tbody tr th:only-of-type {\n",
       "        vertical-align: middle;\n",
       "    }\n",
       "\n",
       "    .dataframe tbody tr th {\n",
       "        vertical-align: top;\n",
       "    }\n",
       "\n",
       "    .dataframe thead th {\n",
       "        text-align: right;\n",
       "    }\n",
       "</style>\n",
       "<table border=\"1\" class=\"dataframe\">\n",
       "  <thead>\n",
       "    <tr style=\"text-align: right;\">\n",
       "      <th></th>\n",
       "      <th>Predicted Poison</th>\n",
       "      <th>Predicted Edible</th>\n",
       "    </tr>\n",
       "  </thead>\n",
       "  <tbody>\n",
       "    <tr>\n",
       "      <th>Actual Poison</th>\n",
       "      <td>1257</td>\n",
       "      <td>1</td>\n",
       "    </tr>\n",
       "    <tr>\n",
       "      <th>Actual Edible</th>\n",
       "      <td>0</td>\n",
       "      <td>1180</td>\n",
       "    </tr>\n",
       "  </tbody>\n",
       "</table>\n",
       "</div>"
      ],
      "text/plain": [
       "               Predicted Poison  Predicted Edible\n",
       "Actual Poison              1257                 1\n",
       "Actual Edible                 0              1180"
      ]
     },
     "execution_count": 41,
     "metadata": {},
     "output_type": "execute_result"
    }
   ],
   "source": [
    "con_matrix = pd.DataFrame(confusion_matrix( y_predict,y_test), columns=['Predicted Poison', 'Predicted Edible'], index=['Actual Poison', 'Actual Edible'])\n",
    "con_matrix"
   ]
  },
  {
   "cell_type": "markdown",
   "id": "81557858",
   "metadata": {},
   "source": [
    "# 2.KNN"
   ]
  },
  {
   "cell_type": "code",
   "execution_count": 42,
   "id": "a97842c9",
   "metadata": {},
   "outputs": [
    {
     "name": "stdout",
     "output_type": "stream",
     "text": [
      "[1.0, 1.0, 1.0, 1.0, 1.0, 1.0, 1.0, 1.0, 1.0, 0.9995898277276456, 0.9995898277276456, 0.9995898277276456, 0.9995898277276456, 0.9995898277276456, 0.9995898277276456, 0.9995898277276456, 0.9995898277276456, 0.9995898277276456, 0.9995898277276456]\n"
     ]
    },
    {
     "data": {
      "image/png": "[encoded data removed]",
      "text/plain": [
       "<Figure size 432x288 with 1 Axes>"
      ]
     },
     "metadata": {
      "needs_background": "light"
     },
     "output_type": "display_data"
    }
   ],
   "source": [
    "KNN_values=[]\n",
    "neighbours=np.arange(1,20)\n",
    "for k in neighbours:\n",
    "    KNN=KNeighborsClassifier(n_neighbors=k,metric=\"minkowski\")\n",
    "    KNN.fit(X_train,y_train)\n",
    "    y_pred1=KNN.predict(X_test)\n",
    "    acc=accuracy_score(y_test,y_pred1)\n",
    "    KNN_values.append(acc)\n",
    "print(KNN_values)   \n",
    "plt.plot(neighbours,KNN_values,\"*-\")\n",
    "plt.xlabel(\"K value \")\n",
    "plt.ylabel(\"Accuracy\")\n",
    "plt.show()"
   ]
  },
  {
   "cell_type": "code",
   "execution_count": 43,
   "id": "d1615caf",
   "metadata": {},
   "outputs": [
    {
     "name": "stdout",
     "output_type": "stream",
     "text": [
      "Results from KNN are as below\n"
     ]
    },
    {
     "data": {
      "text/html": [
       "<div>\n",
       "<style scoped>\n",
       "    .dataframe tbody tr th:only-of-type {\n",
       "        vertical-align: middle;\n",
       "    }\n",
       "\n",
       "    .dataframe tbody tr th {\n",
       "        vertical-align: top;\n",
       "    }\n",
       "\n",
       "    .dataframe thead th {\n",
       "        text-align: right;\n",
       "    }\n",
       "</style>\n",
       "<table border=\"1\" class=\"dataframe\">\n",
       "  <thead>\n",
       "    <tr style=\"text-align: right;\">\n",
       "      <th></th>\n",
       "      <th>precision</th>\n",
       "      <th>recall</th>\n",
       "      <th>f1-score</th>\n",
       "      <th>support</th>\n",
       "    </tr>\n",
       "  </thead>\n",
       "  <tbody>\n",
       "    <tr>\n",
       "      <th>0</th>\n",
       "      <td>1.0</td>\n",
       "      <td>1.0</td>\n",
       "      <td>1.0</td>\n",
       "      <td>1257.0</td>\n",
       "    </tr>\n",
       "    <tr>\n",
       "      <th>1</th>\n",
       "      <td>1.0</td>\n",
       "      <td>1.0</td>\n",
       "      <td>1.0</td>\n",
       "      <td>1181.0</td>\n",
       "    </tr>\n",
       "    <tr>\n",
       "      <th>accuracy</th>\n",
       "      <td>1.0</td>\n",
       "      <td>1.0</td>\n",
       "      <td>1.0</td>\n",
       "      <td>1.0</td>\n",
       "    </tr>\n",
       "    <tr>\n",
       "      <th>macro avg</th>\n",
       "      <td>1.0</td>\n",
       "      <td>1.0</td>\n",
       "      <td>1.0</td>\n",
       "      <td>2438.0</td>\n",
       "    </tr>\n",
       "    <tr>\n",
       "      <th>weighted avg</th>\n",
       "      <td>1.0</td>\n",
       "      <td>1.0</td>\n",
       "      <td>1.0</td>\n",
       "      <td>2438.0</td>\n",
       "    </tr>\n",
       "  </tbody>\n",
       "</table>\n",
       "</div>"
      ],
      "text/plain": [
       "              precision  recall  f1-score  support\n",
       "0                   1.0     1.0       1.0   1257.0\n",
       "1                   1.0     1.0       1.0   1181.0\n",
       "accuracy            1.0     1.0       1.0      1.0\n",
       "macro avg           1.0     1.0       1.0   2438.0\n",
       "weighted avg        1.0     1.0       1.0   2438.0"
      ]
     },
     "execution_count": 43,
     "metadata": {},
     "output_type": "execute_result"
    }
   ],
   "source": [
    "KNN=KNeighborsClassifier(n_neighbors=1,metric=\"minkowski\")\n",
    "KNN.fit(X_train,y_train)\n",
    "y_pred3=KNN.predict(X_test)\n",
    "\n",
    "print(\"Results from KNN are as below\")\n",
    "KNN_result = classification_report(y_pred3,y_test,output_dict=True)\n",
    "KNN_result = pd.DataFrame(KNN_result).transpose()\n",
    "KNN_result"
   ]
  },
  {
   "cell_type": "markdown",
   "id": "0521d61d",
   "metadata": {},
   "source": [
    "# 3. Decision Tree"
   ]
  },
  {
   "cell_type": "code",
   "execution_count": 44,
   "id": "80f5124f",
   "metadata": {},
   "outputs": [],
   "source": [
    "DT = DecisionTreeClassifier()\n",
    "DT.fit(X_train, y_train)\n",
    "y_pred4 = DT.predict(X_test)"
   ]
  },
  {
   "cell_type": "code",
   "execution_count": 45,
   "id": "4c7cc2e2",
   "metadata": {},
   "outputs": [
    {
     "name": "stdout",
     "output_type": "stream",
     "text": [
      "Results from Decision Tree are as below\n"
     ]
    },
    {
     "data": {
      "text/html": [
       "<div>\n",
       "<style scoped>\n",
       "    .dataframe tbody tr th:only-of-type {\n",
       "        vertical-align: middle;\n",
       "    }\n",
       "\n",
       "    .dataframe tbody tr th {\n",
       "        vertical-align: top;\n",
       "    }\n",
       "\n",
       "    .dataframe thead th {\n",
       "        text-align: right;\n",
       "    }\n",
       "</style>\n",
       "<table border=\"1\" class=\"dataframe\">\n",
       "  <thead>\n",
       "    <tr style=\"text-align: right;\">\n",
       "      <th></th>\n",
       "      <th>precision</th>\n",
       "      <th>recall</th>\n",
       "      <th>f1-score</th>\n",
       "      <th>support</th>\n",
       "    </tr>\n",
       "  </thead>\n",
       "  <tbody>\n",
       "    <tr>\n",
       "      <th>0</th>\n",
       "      <td>1.0</td>\n",
       "      <td>1.0</td>\n",
       "      <td>1.0</td>\n",
       "      <td>1257.0</td>\n",
       "    </tr>\n",
       "    <tr>\n",
       "      <th>1</th>\n",
       "      <td>1.0</td>\n",
       "      <td>1.0</td>\n",
       "      <td>1.0</td>\n",
       "      <td>1181.0</td>\n",
       "    </tr>\n",
       "    <tr>\n",
       "      <th>accuracy</th>\n",
       "      <td>1.0</td>\n",
       "      <td>1.0</td>\n",
       "      <td>1.0</td>\n",
       "      <td>1.0</td>\n",
       "    </tr>\n",
       "    <tr>\n",
       "      <th>macro avg</th>\n",
       "      <td>1.0</td>\n",
       "      <td>1.0</td>\n",
       "      <td>1.0</td>\n",
       "      <td>2438.0</td>\n",
       "    </tr>\n",
       "    <tr>\n",
       "      <th>weighted avg</th>\n",
       "      <td>1.0</td>\n",
       "      <td>1.0</td>\n",
       "      <td>1.0</td>\n",
       "      <td>2438.0</td>\n",
       "    </tr>\n",
       "  </tbody>\n",
       "</table>\n",
       "</div>"
      ],
      "text/plain": [
       "              precision  recall  f1-score  support\n",
       "0                   1.0     1.0       1.0   1257.0\n",
       "1                   1.0     1.0       1.0   1181.0\n",
       "accuracy            1.0     1.0       1.0      1.0\n",
       "macro avg           1.0     1.0       1.0   2438.0\n",
       "weighted avg        1.0     1.0       1.0   2438.0"
      ]
     },
     "execution_count": 45,
     "metadata": {},
     "output_type": "execute_result"
    }
   ],
   "source": [
    "print(\"Results from Decision Tree are as below\")\n",
    "DT_result = classification_report(y_pred4,y_test,output_dict=True)\n",
    "DT_result = pd.DataFrame(DT_result).transpose()\n",
    "DT_result"
   ]
  },
  {
   "cell_type": "markdown",
   "id": "79b02d16",
   "metadata": {},
   "source": [
    "# 4.Random Forest"
   ]
  },
  {
   "cell_type": "code",
   "execution_count": 46,
   "id": "baadad59",
   "metadata": {},
   "outputs": [],
   "source": [
    "RF = RandomForestClassifier()\n",
    "RF.fit(X_train,y_train) \n",
    "y_pred5 = RF.predict(X_test)"
   ]
  },
  {
   "cell_type": "code",
   "execution_count": 47,
   "id": "910f4292",
   "metadata": {},
   "outputs": [
    {
     "name": "stdout",
     "output_type": "stream",
     "text": [
      "Results from Random Forest are as below\n"
     ]
    },
    {
     "data": {
      "text/html": [
       "<div>\n",
       "<style scoped>\n",
       "    .dataframe tbody tr th:only-of-type {\n",
       "        vertical-align: middle;\n",
       "    }\n",
       "\n",
       "    .dataframe tbody tr th {\n",
       "        vertical-align: top;\n",
       "    }\n",
       "\n",
       "    .dataframe thead th {\n",
       "        text-align: right;\n",
       "    }\n",
       "</style>\n",
       "<table border=\"1\" class=\"dataframe\">\n",
       "  <thead>\n",
       "    <tr style=\"text-align: right;\">\n",
       "      <th></th>\n",
       "      <th>precision</th>\n",
       "      <th>recall</th>\n",
       "      <th>f1-score</th>\n",
       "      <th>support</th>\n",
       "    </tr>\n",
       "  </thead>\n",
       "  <tbody>\n",
       "    <tr>\n",
       "      <th>0</th>\n",
       "      <td>1.0</td>\n",
       "      <td>1.0</td>\n",
       "      <td>1.0</td>\n",
       "      <td>1257.0</td>\n",
       "    </tr>\n",
       "    <tr>\n",
       "      <th>1</th>\n",
       "      <td>1.0</td>\n",
       "      <td>1.0</td>\n",
       "      <td>1.0</td>\n",
       "      <td>1181.0</td>\n",
       "    </tr>\n",
       "    <tr>\n",
       "      <th>accuracy</th>\n",
       "      <td>1.0</td>\n",
       "      <td>1.0</td>\n",
       "      <td>1.0</td>\n",
       "      <td>1.0</td>\n",
       "    </tr>\n",
       "    <tr>\n",
       "      <th>macro avg</th>\n",
       "      <td>1.0</td>\n",
       "      <td>1.0</td>\n",
       "      <td>1.0</td>\n",
       "      <td>2438.0</td>\n",
       "    </tr>\n",
       "    <tr>\n",
       "      <th>weighted avg</th>\n",
       "      <td>1.0</td>\n",
       "      <td>1.0</td>\n",
       "      <td>1.0</td>\n",
       "      <td>2438.0</td>\n",
       "    </tr>\n",
       "  </tbody>\n",
       "</table>\n",
       "</div>"
      ],
      "text/plain": [
       "              precision  recall  f1-score  support\n",
       "0                   1.0     1.0       1.0   1257.0\n",
       "1                   1.0     1.0       1.0   1181.0\n",
       "accuracy            1.0     1.0       1.0      1.0\n",
       "macro avg           1.0     1.0       1.0   2438.0\n",
       "weighted avg        1.0     1.0       1.0   2438.0"
      ]
     },
     "execution_count": 47,
     "metadata": {},
     "output_type": "execute_result"
    }
   ],
   "source": [
    "print(\"Results from Random Forest are as below\")\n",
    "RF_result = classification_report(y_pred5,y_test,output_dict=True)\n",
    "RF_result = pd.DataFrame(RF_result).transpose()\n",
    "RF_result"
   ]
  },
  {
   "cell_type": "markdown",
   "id": "6c03dd44",
   "metadata": {},
   "source": [
    "# 5. Gaussian Naive Bayes"
   ]
  },
  {
   "cell_type": "code",
   "execution_count": 48,
   "id": "663962db",
   "metadata": {},
   "outputs": [],
   "source": [
    "#Gaussian Naive Bayes  - Need to have features which are independent.\n",
    "#We have eliminated features that highly correlated. \n",
    "#It is used for numerical / continuous features. The distribution of continues values \n",
    "#are \"assumed\" to be Gaussian. And therefore the likelihood probabilities are computed based \n",
    "#on Gaussian distribution.\n",
    "#In our case, predictor features are not continuous. So Gaussian is not a good algorithm for this dataset. \n",
    "\n",
    "GNB=GaussianNB()\n",
    "GNB_model=GNB.fit(X_train , y_train)\n",
    "y_pred6=GNB_model.predict(X_test)"
   ]
  },
  {
   "cell_type": "code",
   "execution_count": 49,
   "id": "35fe0101",
   "metadata": {},
   "outputs": [
    {
     "name": "stdout",
     "output_type": "stream",
     "text": [
      "Results from Gaussian Naive bayer are as below\n"
     ]
    },
    {
     "data": {
      "text/html": [
       "<div>\n",
       "<style scoped>\n",
       "    .dataframe tbody tr th:only-of-type {\n",
       "        vertical-align: middle;\n",
       "    }\n",
       "\n",
       "    .dataframe tbody tr th {\n",
       "        vertical-align: top;\n",
       "    }\n",
       "\n",
       "    .dataframe thead th {\n",
       "        text-align: right;\n",
       "    }\n",
       "</style>\n",
       "<table border=\"1\" class=\"dataframe\">\n",
       "  <thead>\n",
       "    <tr style=\"text-align: right;\">\n",
       "      <th></th>\n",
       "      <th>precision</th>\n",
       "      <th>recall</th>\n",
       "      <th>f1-score</th>\n",
       "      <th>support</th>\n",
       "    </tr>\n",
       "  </thead>\n",
       "  <tbody>\n",
       "    <tr>\n",
       "      <th>0</th>\n",
       "      <td>0.860780</td>\n",
       "      <td>0.999077</td>\n",
       "      <td>0.924786</td>\n",
       "      <td>1083.00000</td>\n",
       "    </tr>\n",
       "    <tr>\n",
       "      <th>1</th>\n",
       "      <td>0.999153</td>\n",
       "      <td>0.870849</td>\n",
       "      <td>0.930599</td>\n",
       "      <td>1355.00000</td>\n",
       "    </tr>\n",
       "    <tr>\n",
       "      <th>accuracy</th>\n",
       "      <td>0.927810</td>\n",
       "      <td>0.927810</td>\n",
       "      <td>0.927810</td>\n",
       "      <td>0.92781</td>\n",
       "    </tr>\n",
       "    <tr>\n",
       "      <th>macro avg</th>\n",
       "      <td>0.929966</td>\n",
       "      <td>0.934963</td>\n",
       "      <td>0.927693</td>\n",
       "      <td>2438.00000</td>\n",
       "    </tr>\n",
       "    <tr>\n",
       "      <th>weighted avg</th>\n",
       "      <td>0.937685</td>\n",
       "      <td>0.927810</td>\n",
       "      <td>0.928017</td>\n",
       "      <td>2438.00000</td>\n",
       "    </tr>\n",
       "  </tbody>\n",
       "</table>\n",
       "</div>"
      ],
      "text/plain": [
       "              precision    recall  f1-score     support\n",
       "0              0.860780  0.999077  0.924786  1083.00000\n",
       "1              0.999153  0.870849  0.930599  1355.00000\n",
       "accuracy       0.927810  0.927810  0.927810     0.92781\n",
       "macro avg      0.929966  0.934963  0.927693  2438.00000\n",
       "weighted avg   0.937685  0.927810  0.928017  2438.00000"
      ]
     },
     "execution_count": 49,
     "metadata": {},
     "output_type": "execute_result"
    }
   ],
   "source": [
    "print(\"Results from Gaussian Naive bayer are as below\")\n",
    "GNB_result = classification_report(y_pred6,y_test,output_dict=True)\n",
    "GNB_result = pd.DataFrame(GNB_result).transpose()\n",
    "GNB_result"
   ]
  },
  {
   "cell_type": "code",
   "execution_count": 50,
   "id": "76a15fce",
   "metadata": {},
   "outputs": [
    {
     "data": {
      "text/html": [
       "<div>\n",
       "<style scoped>\n",
       "    .dataframe tbody tr th:only-of-type {\n",
       "        vertical-align: middle;\n",
       "    }\n",
       "\n",
       "    .dataframe tbody tr th {\n",
       "        vertical-align: top;\n",
       "    }\n",
       "\n",
       "    .dataframe thead th {\n",
       "        text-align: right;\n",
       "    }\n",
       "</style>\n",
       "<table border=\"1\" class=\"dataframe\">\n",
       "  <thead>\n",
       "    <tr style=\"text-align: right;\">\n",
       "      <th></th>\n",
       "      <th>Predicted Poison</th>\n",
       "      <th>Predicted Edible</th>\n",
       "    </tr>\n",
       "  </thead>\n",
       "  <tbody>\n",
       "    <tr>\n",
       "      <th>Actual Poison</th>\n",
       "      <td>1082</td>\n",
       "      <td>1</td>\n",
       "    </tr>\n",
       "    <tr>\n",
       "      <th>Actual Edible</th>\n",
       "      <td>175</td>\n",
       "      <td>1180</td>\n",
       "    </tr>\n",
       "  </tbody>\n",
       "</table>\n",
       "</div>"
      ],
      "text/plain": [
       "               Predicted Poison  Predicted Edible\n",
       "Actual Poison              1082                 1\n",
       "Actual Edible               175              1180"
      ]
     },
     "execution_count": 50,
     "metadata": {},
     "output_type": "execute_result"
    }
   ],
   "source": [
    "con_matrix = pd.DataFrame(confusion_matrix( y_pred6,y_test), columns=['Predicted Poison', 'Predicted Edible'], index=['Actual Poison', 'Actual Edible'])\n",
    "con_matrix"
   ]
  },
  {
   "cell_type": "markdown",
   "id": "d74491cc",
   "metadata": {},
   "source": [
    "# 6. BernoulliNB"
   ]
  },
  {
   "cell_type": "code",
   "execution_count": 51,
   "id": "bef444c8",
   "metadata": {},
   "outputs": [],
   "source": [
    "#The predictors in this data are boolean variables. BernoulliNB algorithm is suitable for this dataset.\n",
    "\n",
    "from sklearn.naive_bayes import BernoulliNB\n",
    "BNB_model = BernoulliNB()\n",
    "BNB_model = BNB_model.fit(X_train , y_train)\n",
    "y_pred7=BNB_model.predict(X_test)"
   ]
  },
  {
   "cell_type": "code",
   "execution_count": 52,
   "id": "bee93960",
   "metadata": {},
   "outputs": [
    {
     "name": "stdout",
     "output_type": "stream",
     "text": [
      "Results from Bernoulli Naive bayer are as below\n"
     ]
    },
    {
     "data": {
      "text/html": [
       "<div>\n",
       "<style scoped>\n",
       "    .dataframe tbody tr th:only-of-type {\n",
       "        vertical-align: middle;\n",
       "    }\n",
       "\n",
       "    .dataframe tbody tr th {\n",
       "        vertical-align: top;\n",
       "    }\n",
       "\n",
       "    .dataframe thead th {\n",
       "        text-align: right;\n",
       "    }\n",
       "</style>\n",
       "<table border=\"1\" class=\"dataframe\">\n",
       "  <thead>\n",
       "    <tr style=\"text-align: right;\">\n",
       "      <th></th>\n",
       "      <th>precision</th>\n",
       "      <th>recall</th>\n",
       "      <th>f1-score</th>\n",
       "      <th>support</th>\n",
       "    </tr>\n",
       "  </thead>\n",
       "  <tbody>\n",
       "    <tr>\n",
       "      <th>0</th>\n",
       "      <td>0.990453</td>\n",
       "      <td>0.904797</td>\n",
       "      <td>0.945689</td>\n",
       "      <td>1376.000000</td>\n",
       "    </tr>\n",
       "    <tr>\n",
       "      <th>1</th>\n",
       "      <td>0.889077</td>\n",
       "      <td>0.988701</td>\n",
       "      <td>0.936246</td>\n",
       "      <td>1062.000000</td>\n",
       "    </tr>\n",
       "    <tr>\n",
       "      <th>accuracy</th>\n",
       "      <td>0.941345</td>\n",
       "      <td>0.941345</td>\n",
       "      <td>0.941345</td>\n",
       "      <td>0.941345</td>\n",
       "    </tr>\n",
       "    <tr>\n",
       "      <th>macro avg</th>\n",
       "      <td>0.939765</td>\n",
       "      <td>0.946749</td>\n",
       "      <td>0.940968</td>\n",
       "      <td>2438.000000</td>\n",
       "    </tr>\n",
       "    <tr>\n",
       "      <th>weighted avg</th>\n",
       "      <td>0.946294</td>\n",
       "      <td>0.941345</td>\n",
       "      <td>0.941576</td>\n",
       "      <td>2438.000000</td>\n",
       "    </tr>\n",
       "  </tbody>\n",
       "</table>\n",
       "</div>"
      ],
      "text/plain": [
       "              precision    recall  f1-score      support\n",
       "0              0.990453  0.904797  0.945689  1376.000000\n",
       "1              0.889077  0.988701  0.936246  1062.000000\n",
       "accuracy       0.941345  0.941345  0.941345     0.941345\n",
       "macro avg      0.939765  0.946749  0.940968  2438.000000\n",
       "weighted avg   0.946294  0.941345  0.941576  2438.000000"
      ]
     },
     "execution_count": 52,
     "metadata": {},
     "output_type": "execute_result"
    }
   ],
   "source": [
    "print(\"Results from Bernoulli Naive bayer are as below\")\n",
    "BNB_result = classification_report(y_pred7,y_test,output_dict=True)\n",
    "BNB_result = pd.DataFrame(BNB_result).transpose()\n",
    "BNB_result"
   ]
  },
  {
   "cell_type": "code",
   "execution_count": 53,
   "id": "f9c26319",
   "metadata": {},
   "outputs": [
    {
     "data": {
      "text/html": [
       "<div>\n",
       "<style scoped>\n",
       "    .dataframe tbody tr th:only-of-type {\n",
       "        vertical-align: middle;\n",
       "    }\n",
       "\n",
       "    .dataframe tbody tr th {\n",
       "        vertical-align: top;\n",
       "    }\n",
       "\n",
       "    .dataframe thead th {\n",
       "        text-align: right;\n",
       "    }\n",
       "</style>\n",
       "<table border=\"1\" class=\"dataframe\">\n",
       "  <thead>\n",
       "    <tr style=\"text-align: right;\">\n",
       "      <th></th>\n",
       "      <th>Predicted Poison</th>\n",
       "      <th>Predicted Edible</th>\n",
       "    </tr>\n",
       "  </thead>\n",
       "  <tbody>\n",
       "    <tr>\n",
       "      <th>Actual Poison</th>\n",
       "      <td>1245</td>\n",
       "      <td>131</td>\n",
       "    </tr>\n",
       "    <tr>\n",
       "      <th>Actual Edible</th>\n",
       "      <td>12</td>\n",
       "      <td>1050</td>\n",
       "    </tr>\n",
       "  </tbody>\n",
       "</table>\n",
       "</div>"
      ],
      "text/plain": [
       "               Predicted Poison  Predicted Edible\n",
       "Actual Poison              1245               131\n",
       "Actual Edible                12              1050"
      ]
     },
     "execution_count": 53,
     "metadata": {},
     "output_type": "execute_result"
    }
   ],
   "source": [
    "con_matrix = pd.DataFrame(confusion_matrix( y_pred7,y_test), columns=['Predicted Poison', 'Predicted Edible'], index=['Actual Poison', 'Actual Edible'])\n",
    "con_matrix"
   ]
  },
  {
   "cell_type": "code",
   "execution_count": 54,
   "id": "b99a14f4",
   "metadata": {},
   "outputs": [
    {
     "ename": "NameError",
     "evalue": "name 'GridSearchCV' is not defined",
     "output_type": "error",
     "traceback": [
      "\u001b[1;31m---------------------------------------------------------------------------\u001b[0m",
      "\u001b[1;31mNameError\u001b[0m                                 Traceback (most recent call last)",
      "\u001b[1;32m~\\AppData\\Local\\Temp/ipykernel_13376/1091735672.py\u001b[0m in \u001b[0;36m<module>\u001b[1;34m\u001b[0m\n\u001b[0;32m      3\u001b[0m \u001b[1;33m\u001b[0m\u001b[0m\n\u001b[0;32m      4\u001b[0m \u001b[1;31m# setup grid search\u001b[0m\u001b[1;33m\u001b[0m\u001b[1;33m\u001b[0m\u001b[0m\n\u001b[1;32m----> 5\u001b[1;33m grid_nb = GridSearchCV(estimator = BernoulliNB(binarize = None),\n\u001b[0m\u001b[0;32m      6\u001b[0m                        param_grid = alphas, cv = 5, scoring = 'recall')\n\u001b[0;32m      7\u001b[0m \u001b[1;33m\u001b[0m\u001b[0m\n",
      "\u001b[1;31mNameError\u001b[0m: name 'GridSearchCV' is not defined"
     ]
    }
   ],
   "source": [
    "#Hyperparameter tuning of Bernoulli\n",
    "alphas = {'alpha': [1.0e-300,1.0e-200,1.0e-10, 0.0001, 0.001, 0.01, 0.1, 0.5, 1.0, 2.0, 10.0]}\n",
    "\n",
    "# setup grid search\n",
    "grid_nb = GridSearchCV(estimator = BernoulliNB(binarize = None),\n",
    "                       param_grid = alphas, cv = 5, scoring = 'recall')\n",
    "\n",
    "# fit nb\n",
    "grid_nb.fit(X_train , y_train) "
   ]
  },
  {
   "cell_type": "code",
   "execution_count": 55,
   "id": "94c7b090",
   "metadata": {},
   "outputs": [
    {
     "ename": "NameError",
     "evalue": "name 'grid_nb' is not defined",
     "output_type": "error",
     "traceback": [
      "\u001b[1;31m---------------------------------------------------------------------------\u001b[0m",
      "\u001b[1;31mNameError\u001b[0m                                 Traceback (most recent call last)",
      "\u001b[1;32m~\\AppData\\Local\\Temp/ipykernel_13376/2419373435.py\u001b[0m in \u001b[0;36m<module>\u001b[1;34m\u001b[0m\n\u001b[0;32m      1\u001b[0m \u001b[1;31m# check best estimator result\u001b[0m\u001b[1;33m\u001b[0m\u001b[1;33m\u001b[0m\u001b[0m\n\u001b[1;32m----> 2\u001b[1;33m \u001b[0mgrid_nb\u001b[0m\u001b[1;33m.\u001b[0m\u001b[0mbest_estimator_\u001b[0m\u001b[1;33m\u001b[0m\u001b[1;33m\u001b[0m\u001b[0m\n\u001b[0m",
      "\u001b[1;31mNameError\u001b[0m: name 'grid_nb' is not defined"
     ]
    }
   ],
   "source": [
    "# check best estimator result\n",
    "grid_nb.best_estimator_"
   ]
  },
  {
   "cell_type": "code",
   "execution_count": 56,
   "id": "e7a39596",
   "metadata": {},
   "outputs": [],
   "source": [
    "BNB_model1 = BernoulliNB(alpha=1e-300, binarize=None )\n",
    "BNB_model1 = BNB_model1.fit(X_train , y_train)\n",
    "y_pred8=BNB_model.predict(X_test)"
   ]
  },
  {
   "cell_type": "code",
   "execution_count": 57,
   "id": "47f21648",
   "metadata": {},
   "outputs": [
    {
     "name": "stdout",
     "output_type": "stream",
     "text": [
      "Results from Bernoulli Naive bayer-HT are as below\n"
     ]
    },
    {
     "data": {
      "text/html": [
       "<div>\n",
       "<style scoped>\n",
       "    .dataframe tbody tr th:only-of-type {\n",
       "        vertical-align: middle;\n",
       "    }\n",
       "\n",
       "    .dataframe tbody tr th {\n",
       "        vertical-align: top;\n",
       "    }\n",
       "\n",
       "    .dataframe thead th {\n",
       "        text-align: right;\n",
       "    }\n",
       "</style>\n",
       "<table border=\"1\" class=\"dataframe\">\n",
       "  <thead>\n",
       "    <tr style=\"text-align: right;\">\n",
       "      <th></th>\n",
       "      <th>precision</th>\n",
       "      <th>recall</th>\n",
       "      <th>f1-score</th>\n",
       "      <th>support</th>\n",
       "    </tr>\n",
       "  </thead>\n",
       "  <tbody>\n",
       "    <tr>\n",
       "      <th>0</th>\n",
       "      <td>0.990453</td>\n",
       "      <td>0.904797</td>\n",
       "      <td>0.945689</td>\n",
       "      <td>1376.000000</td>\n",
       "    </tr>\n",
       "    <tr>\n",
       "      <th>1</th>\n",
       "      <td>0.889077</td>\n",
       "      <td>0.988701</td>\n",
       "      <td>0.936246</td>\n",
       "      <td>1062.000000</td>\n",
       "    </tr>\n",
       "    <tr>\n",
       "      <th>accuracy</th>\n",
       "      <td>0.941345</td>\n",
       "      <td>0.941345</td>\n",
       "      <td>0.941345</td>\n",
       "      <td>0.941345</td>\n",
       "    </tr>\n",
       "    <tr>\n",
       "      <th>macro avg</th>\n",
       "      <td>0.939765</td>\n",
       "      <td>0.946749</td>\n",
       "      <td>0.940968</td>\n",
       "      <td>2438.000000</td>\n",
       "    </tr>\n",
       "    <tr>\n",
       "      <th>weighted avg</th>\n",
       "      <td>0.946294</td>\n",
       "      <td>0.941345</td>\n",
       "      <td>0.941576</td>\n",
       "      <td>2438.000000</td>\n",
       "    </tr>\n",
       "  </tbody>\n",
       "</table>\n",
       "</div>"
      ],
      "text/plain": [
       "              precision    recall  f1-score      support\n",
       "0              0.990453  0.904797  0.945689  1376.000000\n",
       "1              0.889077  0.988701  0.936246  1062.000000\n",
       "accuracy       0.941345  0.941345  0.941345     0.941345\n",
       "macro avg      0.939765  0.946749  0.940968  2438.000000\n",
       "weighted avg   0.946294  0.941345  0.941576  2438.000000"
      ]
     },
     "execution_count": 57,
     "metadata": {},
     "output_type": "execute_result"
    }
   ],
   "source": [
    "print(\"Results from Bernoulli Naive bayer-HT are as below\")\n",
    "BNB_result1 = classification_report(y_pred8,y_test,output_dict=True)\n",
    "BNB_result1 = pd.DataFrame(BNB_result1).transpose()\n",
    "BNB_result1"
   ]
  },
  {
   "cell_type": "code",
   "execution_count": 59,
   "id": "5fb1bbc8",
   "metadata": {},
   "outputs": [
    {
     "name": "stdout",
     "output_type": "stream",
     "text": [
      "Model,Accuracy,Recall\n",
      "Logistic Regression:  0.9995898277276456 1.0\n",
      "KNN:  1.0 1.0\n",
      "DT:  1.0 1.0\n",
      "Random Forest:  1.0 1.0\n",
      "Gaussian Naive bayer:  0.9278096800656276 0.8708487084870848\n",
      "Bernoulli Naive bayer:  0.9413453650533224 0.9887005649717514\n",
      "Bernoulli Naive bayer-HT:  0.9413453650533224 0.9887005649717514\n"
     ]
    }
   ],
   "source": [
    "#using\n",
    "print('Model,Accuracy,Recall')\n",
    "print('Logistic Regression: ',accuracy_score(y_predict,y_test),recall_score(y_predict,y_test))\n",
    "\n",
    "print('KNN: ',accuracy_score(y_pred3,y_test), recall_score(y_pred3,y_test))\n",
    "print('DT: ',accuracy_score(y_pred4,y_test), recall_score(y_pred4,y_test))\n",
    "print('Random Forest: ',accuracy_score(y_pred5,y_test), recall_score(y_pred5,y_test))\n",
    "print('Gaussian Naive bayer: ',accuracy_score(y_pred6,y_test), recall_score(y_pred6,y_test))\n",
    "print('Bernoulli Naive bayer: ',accuracy_score(y_pred7,y_test), recall_score(y_pred7,y_test))\n",
    "print('Bernoulli Naive bayer-HT: ',accuracy_score(y_pred8,y_test), recall_score(y_pred8,y_test))"
   ]
  },
  {
   "cell_type": "code",
   "execution_count": null,
   "id": "9c0b5691",
   "metadata": {},
   "outputs": [],
   "source": []
  }
 ],
 "metadata": {
  "kernelspec": {
   "display_name": "Python 3 (ipykernel)",
   "language": "python",
   "name": "python3"
  },
  "language_info": {
   "codemirror_mode": {
    "name": "ipython",
    "version": 3
   },
   "file_extension": ".py",
   "mimetype": "text/x-python",
   "name": "python",
   "nbconvert_exporter": "python",
   "pygments_lexer": "ipython3",
   "version": "3.9.7"
  }
 },
 "nbformat": 4,
 "nbformat_minor": 5
}
